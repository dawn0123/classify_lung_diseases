{
 "cells": [
  {
   "cell_type": "markdown",
   "metadata": {},
   "source": [
    "# Data preprocessing"
   ]
  },
  {
   "cell_type": "code",
   "execution_count": 1,
   "metadata": {
    "collapsed": true
   },
   "outputs": [],
   "source": [
    "import pickle\n",
    "\n",
    "train_filename = \"data_preprocessed/train_data_sample_gray.p\"\n",
    "(train_labels, train_data, train_tensors) = pickle.load(open(train_filename, mode='rb'))\n",
    "\n",
    "valid_filename = \"data_preprocessed/valid_data_sample_gray.p\"\n",
    "(valid_labels, valid_data, valid_tensors) = pickle.load(open(valid_filename, mode='rb'))\n",
    "\n",
    "test_filename = \"data_preprocessed/test_data_sample_gray.p\"\n",
    "(test_labels, test_data, test_tensors) = pickle.load(open(test_filename, mode='rb'))"
   ]
  },
  {
   "cell_type": "markdown",
   "metadata": {},
   "source": [
    "Convert label from 1D to 2D"
   ]
  },
  {
   "cell_type": "code",
   "execution_count": 3,
   "metadata": {
    "collapsed": true
   },
   "outputs": [],
   "source": [
    "def onhotLabels(label):\n",
    "    from sklearn.preprocessing import OneHotEncoder\n",
    "    enc = OneHotEncoder()\n",
    "    enc.fit(label)\n",
    "    return enc.transform(label).toarray()\n",
    "\n",
    "train_labels = onhotLabels(train_labels)\n",
    "valid_labels = onhotLabels(valid_labels)\n",
    "test_labels = onhotLabels(test_labels)"
   ]
  },
  {
   "cell_type": "markdown",
   "metadata": {},
   "source": [
    "# CapsNet model"
   ]
  },
  {
   "cell_type": "code",
   "execution_count": 4,
   "metadata": {
    "scrolled": true
   },
   "outputs": [
    {
     "name": "stdout",
     "output_type": "stream",
     "text": [
      "__________________________________________________________________________________________________\n",
      "Layer (type)                    Output Shape         Param #     Connected to                     \n",
      "==================================================================================================\n",
      "input_1 (InputLayer)            (None, 64, 64, 1)    0                                            \n",
      "__________________________________________________________________________________________________\n",
      "conv1 (Conv2D)                  (None, 32, 32, 256)  20992       input_1[0][0]                    \n",
      "__________________________________________________________________________________________________\n",
      "primarycap_conv2d (Conv2D)      (None, 16, 16, 256)  5308672     conv1[0][0]                      \n",
      "__________________________________________________________________________________________________\n",
      "primarycap_reshape (Reshape)    (None, 8192, 8)      0           primarycap_conv2d[0][0]          \n",
      "__________________________________________________________________________________________________\n",
      "primarycap_squash (Lambda)      (None, 8192, 8)      0           primarycap_reshape[0][0]         \n",
      "__________________________________________________________________________________________________\n",
      "digitcaps (CapsuleLayer)        (None, 2, 16)        2097152     primarycap_squash[0][0]          \n",
      "__________________________________________________________________________________________________\n",
      "input_2 (InputLayer)            (None, 2)            0                                            \n",
      "__________________________________________________________________________________________________\n",
      "mask_1 (Mask)                   (None, 32)           0           digitcaps[0][0]                  \n",
      "                                                                 input_2[0][0]                    \n",
      "__________________________________________________________________________________________________\n",
      "capsnet (Length)                (None, 2)            0           digitcaps[0][0]                  \n",
      "__________________________________________________________________________________________________\n",
      "decoder (Sequential)            (None, 64, 64, 1)    4740608     mask_1[0][0]                     \n",
      "==================================================================================================\n",
      "Total params: 12,167,424\n",
      "Trainable params: 12,167,424\n",
      "Non-trainable params: 0\n",
      "__________________________________________________________________________________________________\n"
     ]
    }
   ],
   "source": [
    "import os\n",
    "import argparse\n",
    "from keras.preprocessing.image import ImageDataGenerator\n",
    "from keras import callbacks\n",
    "\n",
    "import numpy as np\n",
    "from keras import layers, models, optimizers\n",
    "from keras import backend as K\n",
    "import matplotlib.pyplot as plt\n",
    "from PIL import Image\n",
    "from capsulelayers import CapsuleLayer, PrimaryCap, Length, Mask\n",
    "\n",
    "def CapsNet(input_shape, n_class, routings):\n",
    "    \"\"\"\n",
    "    A Capsule Network on MNIST.\n",
    "    :param input_shape: data shape, 3d, [width, height, channels]\n",
    "    :param n_class: number of classes\n",
    "    :param routings: number of routing iterations\n",
    "    :return: Two Keras Models, the first one used for training, and the second one for evaluation.\n",
    "            `eval_model` can also be used for training.\n",
    "    \"\"\"\n",
    "    x = layers.Input(shape=input_shape)\n",
    "\n",
    "    # Layer 1: Just a conventional Conv2D layer\n",
    "    conv1 = layers.Conv2D(filters=256, kernel_size=9, strides=2, padding='same', activation='relu', name='conv1')(x)\n",
    "\n",
    "    # Layer 2: Conv2D layer with `squash` activation, then reshape to [None, num_capsule, dim_capsule]\n",
    "    primarycaps = PrimaryCap(conv1, dim_capsule=8, n_channels=32, kernel_size=9, strides=2, padding='same')\n",
    "\n",
    "    # Layer 3: Capsule layer. Routing algorithm works here.\n",
    "    digitcaps = CapsuleLayer(num_capsule=n_class, dim_capsule=16, routings=routings,\n",
    "                             name='digitcaps')(primarycaps)\n",
    "\n",
    "    # Layer 4: This is an auxiliary layer to replace each capsule with its length. Just to match the true label's shape.\n",
    "    # If using tensorflow, this will not be necessary. :)\n",
    "    out_caps = Length(name='capsnet')(digitcaps)\n",
    "\n",
    "    # Decoder network.\n",
    "    y = layers.Input(shape=(n_class,))\n",
    "    masked_by_y = Mask()([digitcaps, y])  # The true label is used to mask the output of capsule layer. For training\n",
    "    masked = Mask()(digitcaps)  # Mask using the capsule with maximal length. For prediction\n",
    "\n",
    "    # Shared Decoder model in training and prediction\n",
    "    decoder = models.Sequential(name='decoder')\n",
    "    decoder.add(layers.Dense(512, activation='relu', input_dim=16*n_class))\n",
    "    decoder.add(layers.Dense(1024, activation='relu'))\n",
    "    decoder.add(layers.Dense(np.prod(input_shape), activation='sigmoid'))\n",
    "    decoder.add(layers.Reshape(target_shape=input_shape, name='out_recon'))\n",
    "\n",
    "    # Models for training and evaluation (prediction)\n",
    "    train_model = models.Model([x, y], [out_caps, decoder(masked_by_y)])\n",
    "    eval_model = models.Model(x, [out_caps, decoder(masked)])\n",
    "\n",
    "    # manipulate model\n",
    "    noise = layers.Input(shape=(n_class, 16))\n",
    "    noised_digitcaps = layers.Add()([digitcaps, noise])\n",
    "    masked_noised_y = Mask()([noised_digitcaps, y])\n",
    "    manipulate_model = models.Model([x, y, noise], decoder(masked_noised_y))\n",
    "    return train_model, eval_model, manipulate_model\n",
    "\n",
    "model, eval_model, manipulate_model = CapsNet(input_shape=train_tensors.shape[1:],\n",
    "                                                  n_class=len(np.unique(train_labels)),\n",
    "                                                  routings=4)\n",
    "\n",
    "model.summary()"
   ]
  },
  {
   "cell_type": "code",
   "execution_count": 5,
   "metadata": {
    "collapsed": true
   },
   "outputs": [],
   "source": [
    "from keras import backend as K\n",
    "\n",
    "def binary_accuracy(y_true, y_pred):\n",
    "    y_true, y_pred = K.cast(K.argmax(y_true, axis=1), K.floatx()), K.cast(K.argmax(y_pred, axis=1), K.floatx())\n",
    "    return K.mean(K.equal(y_true, K.round(y_pred)))\n",
    "\n",
    "def precision_threshold(threshold = 0.5):\n",
    "    def precision(y_true, y_pred):\n",
    "        y_true, y_pred = K.cast(K.argmax(y_true, axis=1), K.floatx()), K.cast(K.argmax(y_pred, axis=1), K.floatx())\n",
    "        threshold_value = threshold\n",
    "        y_pred = K.cast(K.greater(K.clip(y_pred, 0, 1), threshold_value), K.floatx())\n",
    "        true_positives = K.round(K.sum(K.clip(y_true * y_pred, 0, 1)))\n",
    "        predicted_positives = K.sum(y_pred)\n",
    "        precision_ratio = true_positives / (predicted_positives + K.epsilon())\n",
    "        return precision_ratio\n",
    "    return precision\n",
    "\n",
    "def recall_threshold(threshold = 0.5):\n",
    "    def recall(y_true, y_pred):\n",
    "        y_true, y_pred = K.cast(K.argmax(y_true, axis=1), K.floatx()), K.cast(K.argmax(y_pred, axis=1), K.floatx())\n",
    "        threshold_value = threshold\n",
    "        y_pred = K.cast(K.greater(K.clip(y_pred, 0, 1), threshold_value), K.floatx())\n",
    "        true_positives = K.round(K.sum(K.clip(y_true * y_pred, 0, 1)))\n",
    "        possible_positives = K.sum(K.clip(y_true, 0, 1))\n",
    "        recall_ratio = true_positives / (possible_positives + K.epsilon())\n",
    "        return recall_ratio\n",
    "    return recall\n",
    "\n",
    "def fbeta_score_threshold(beta = 1, threshold = 0.5):\n",
    "    def fbeta_score(y_true, y_pred):\n",
    "        threshold_value = threshold\n",
    "        beta_value = beta\n",
    "        p = precision_threshold(threshold_value)(y_true, y_pred)\n",
    "        r = recall_threshold(threshold_value)(y_true, y_pred)\n",
    "        bb = beta_value ** 2\n",
    "        fbeta_score = (1 + bb) * (p * r) / (bb * p + r + K.epsilon())\n",
    "        return fbeta_score\n",
    "    return fbeta_score"
   ]
  },
  {
   "cell_type": "code",
   "execution_count": 6,
   "metadata": {
    "collapsed": true
   },
   "outputs": [],
   "source": [
    "def margin_loss(y_true, y_pred):\n",
    "    \"\"\"\n",
    "    Margin loss for Eq.(4). When y_true[i, :] contains not just one `1`, this loss should work too. Not test it.\n",
    "    :param y_true: [None, n_classes]\n",
    "    :param y_pred: [None, num_capsule]\n",
    "    :return: a scalar loss value.\n",
    "    \"\"\"\n",
    "    L = y_true * K.square(K.maximum(0., 0.9 - y_pred)) + \\\n",
    "        0.5 * (1 - y_true) * K.square(K.maximum(0., y_pred - 0.1))\n",
    "\n",
    "    return K.mean(K.sum(L, 1))\n",
    "\n",
    "def train(model, data, lr, lr_decay, lam_recon, batch_size, shift_fraction, epochs):\n",
    "    \"\"\"\n",
    "    Training a CapsuleNet\n",
    "    :param model: the CapsuleNet model\n",
    "    :param data: a tuple containing training and testing data, like `((x_train, y_train), (x_test, y_test))`\n",
    "    :param args: arguments\n",
    "    :return: The trained model\n",
    "    \"\"\"\n",
    "    # unpacking the data\n",
    "    (x_train, y_train), (x_test, y_test) = data\n",
    "\n",
    "    # callbacks\n",
    "    log = callbacks.CSVLogger('saved_models/CapsNet_log.csv')\n",
    "    tb = callbacks.TensorBoard(log_dir='saved_models/tensorboard-logs',\n",
    "                               batch_size=batch_size, histogram_freq=0)\n",
    "    checkpoint = callbacks.ModelCheckpoint(filepath='saved_models/CapsNet.best.from_scratch.hdf5', \n",
    "                               verbose=1, save_best_only=True)\n",
    "    cb_lr_decay = callbacks.LearningRateScheduler(schedule=lambda epoch: lr * (lr_decay ** epoch))\n",
    "\n",
    "    # compile the model\n",
    "    model.compile(optimizer='sgd', loss='binary_crossentropy', \n",
    "              metrics=[precision_threshold(threshold = 0.5), \n",
    "                      recall_threshold(threshold = 0.5), \n",
    "                      fbeta_score_threshold(beta=0.5, threshold = 0.5),\n",
    "                      binary_accuracy])\n",
    "\n",
    "    # Training without data augmentation:\n",
    "#     model.fit([x_train, y_train], [y_train, x_train], batch_size=batch_size, epochs=epochs,\n",
    "#               validation_data=[[x_test, y_test], [y_test, x_test]], callbacks=[log, tb, checkpoint, cb_lr_decay])\n",
    "\n",
    "    # Begin: Training with data augmentation ---------------------------------------------------------------------#\n",
    "    def train_generator(x, y, batch_size, shift_fraction=0.):\n",
    "        train_datagen = ImageDataGenerator(width_shift_range=shift_fraction,\n",
    "                                           height_shift_range=shift_fraction)  # shift up to 2 pixel for MNIST\n",
    "        generator = train_datagen.flow(x, y, batch_size=batch_size)\n",
    "        while 1:\n",
    "            x_batch, y_batch = generator.next()\n",
    "            yield ([x_batch, y_batch], [y_batch, x_batch])\n",
    "\n",
    "    # Training with data augmentation. If shift_fraction=0., also no augmentation.\n",
    "    model.fit_generator(generator=train_generator(x_train, y_train, batch_size, shift_fraction),\n",
    "                        steps_per_epoch=int(y_train.shape[0] / batch_size),\n",
    "                        epochs=epochs,\n",
    "                        validation_data=[[x_test, y_test], [y_test, x_test]],\n",
    "                        callbacks=[log, tb, checkpoint, cb_lr_decay])\n",
    "    # End: Training with data augmentation -----------------------------------------------------------------------#\n",
    "\n",
    "    from utils import plot_log\n",
    "    plot_log('saved_models/CapsNet_log.csv', show=True)\n",
    "\n",
    "    return model"
   ]
  },
  {
   "cell_type": "code",
   "execution_count": 7,
   "metadata": {},
   "outputs": [
    {
     "name": "stdout",
     "output_type": "stream",
     "text": [
      "Epoch 1/20\n",
      "105/106 [============================>.] - ETA: 0s - loss: 1.5321 - capsnet_loss: 0.8389 - decoder_loss: 0.6932 - capsnet_precision: 0.0795 - capsnet_recall: 0.0575 - capsnet_fbeta_score: 0.0610 - capsnet_binary_accuracy: 0.5408 - decoder_precision: 0.9648 - decoder_recall: 0.9693 - decoder_fbeta_score: 0.9656 - decoder_binary_accuracy: 0.0118Epoch 00001: val_loss improved from inf to 1.39722, saving model to saved_models/CapsNet.best.from_scratch.hdf5\n",
      "106/106 [==============================] - 37s 345ms/step - loss: 1.5309 - capsnet_loss: 0.8378 - decoder_loss: 0.6932 - capsnet_precision: 0.0787 - capsnet_recall: 0.0569 - capsnet_fbeta_score: 0.0604 - capsnet_binary_accuracy: 0.5404 - decoder_precision: 0.9650 - decoder_recall: 0.9693 - decoder_fbeta_score: 0.9658 - decoder_binary_accuracy: 0.0118 - val_loss: 1.3972 - val_capsnet_loss: 0.7041 - val_decoder_loss: 0.6932 - val_capsnet_precision: 0.0000e+00 - val_capsnet_recall: 0.0000e+00 - val_capsnet_fbeta_score: 0.0000e+00 - val_capsnet_binary_accuracy: 0.5400 - val_decoder_precision: 0.9596 - val_decoder_recall: 0.9697 - val_decoder_fbeta_score: 0.9615 - val_decoder_binary_accuracy: 0.0097\n",
      "Epoch 2/20\n",
      "105/106 [============================>.] - ETA: 0s - loss: 1.3999 - capsnet_loss: 0.7067 - decoder_loss: 0.6932 - capsnet_precision: 0.0000e+00 - capsnet_recall: 0.0000e+00 - capsnet_fbeta_score: 0.0000e+00 - capsnet_binary_accuracy: 0.5393 - decoder_precision: 0.9649 - decoder_recall: 0.9697 - decoder_fbeta_score: 0.9658 - decoder_binary_accuracy: 0.0119Epoch 00002: val_loss improved from 1.39722 to 1.39503, saving model to saved_models/CapsNet.best.from_scratch.hdf5\n",
      "106/106 [==============================] - 34s 321ms/step - loss: 1.3997 - capsnet_loss: 0.7066 - decoder_loss: 0.6932 - capsnet_precision: 0.0000e+00 - capsnet_recall: 0.0000e+00 - capsnet_fbeta_score: 0.0000e+00 - capsnet_binary_accuracy: 0.5401 - decoder_precision: 0.9650 - decoder_recall: 0.9697 - decoder_fbeta_score: 0.9658 - decoder_binary_accuracy: 0.0118 - val_loss: 1.3950 - val_capsnet_loss: 0.7019 - val_decoder_loss: 0.6932 - val_capsnet_precision: 0.0000e+00 - val_capsnet_recall: 0.0000e+00 - val_capsnet_fbeta_score: 0.0000e+00 - val_capsnet_binary_accuracy: 0.5400 - val_decoder_precision: 0.9596 - val_decoder_recall: 0.9695 - val_decoder_fbeta_score: 0.9615 - val_decoder_binary_accuracy: 0.0097\n",
      "Epoch 3/20\n",
      "105/106 [============================>.] - ETA: 0s - loss: 1.3981 - capsnet_loss: 0.7049 - decoder_loss: 0.6932 - capsnet_precision: 0.0286 - capsnet_recall: 0.0027 - capsnet_fbeta_score: 0.0099 - capsnet_binary_accuracy: 0.5375 - decoder_precision: 0.9639 - decoder_recall: 0.9696 - decoder_fbeta_score: 0.9650 - decoder_binary_accuracy: 0.0117Epoch 00003: val_loss improved from 1.39503 to 1.39319, saving model to saved_models/CapsNet.best.from_scratch.hdf5\n",
      "106/106 [==============================] - 34s 322ms/step - loss: 1.3978 - capsnet_loss: 0.7047 - decoder_loss: 0.6932 - capsnet_precision: 0.0283 - capsnet_recall: 0.0027 - capsnet_fbeta_score: 0.0098 - capsnet_binary_accuracy: 0.5389 - decoder_precision: 0.9641 - decoder_recall: 0.9696 - decoder_fbeta_score: 0.9651 - decoder_binary_accuracy: 0.0117 - val_loss: 1.3932 - val_capsnet_loss: 0.7000 - val_decoder_loss: 0.6932 - val_capsnet_precision: 0.0000e+00 - val_capsnet_recall: 0.0000e+00 - val_capsnet_fbeta_score: 0.0000e+00 - val_capsnet_binary_accuracy: 0.5400 - val_decoder_precision: 0.9596 - val_decoder_recall: 0.9694 - val_decoder_fbeta_score: 0.9614 - val_decoder_binary_accuracy: 0.0097\n",
      "Epoch 4/20\n",
      "105/106 [============================>.] - ETA: 0s - loss: 1.3941 - capsnet_loss: 0.7009 - decoder_loss: 0.6932 - capsnet_precision: 0.0000e+00 - capsnet_recall: 0.0000e+00 - capsnet_fbeta_score: 0.0000e+00 - capsnet_binary_accuracy: 0.5440 - decoder_precision: 0.9660 - decoder_recall: 0.9695 - decoder_fbeta_score: 0.9667 - decoder_binary_accuracy: 0.0120Epoch 00004: val_loss improved from 1.39319 to 1.39141, saving model to saved_models/CapsNet.best.from_scratch.hdf5\n",
      "106/106 [==============================] - 34s 324ms/step - loss: 1.3941 - capsnet_loss: 0.7009 - decoder_loss: 0.6932 - capsnet_precision: 0.0000e+00 - capsnet_recall: 0.0000e+00 - capsnet_fbeta_score: 0.0000e+00 - capsnet_binary_accuracy: 0.5439 - decoder_precision: 0.9662 - decoder_recall: 0.9695 - decoder_fbeta_score: 0.9668 - decoder_binary_accuracy: 0.0119 - val_loss: 1.3914 - val_capsnet_loss: 0.6983 - val_decoder_loss: 0.6932 - val_capsnet_precision: 0.0291 - val_capsnet_recall: 0.0018 - val_capsnet_fbeta_score: 0.0073 - val_capsnet_binary_accuracy: 0.5400 - val_decoder_precision: 0.9596 - val_decoder_recall: 0.9693 - val_decoder_fbeta_score: 0.9614 - val_decoder_binary_accuracy: 0.0097\n",
      "Epoch 5/20\n",
      "105/106 [============================>.] - ETA: 0s - loss: 1.3938 - capsnet_loss: 0.7006 - decoder_loss: 0.6932 - capsnet_precision: 0.0952 - capsnet_recall: 0.0066 - capsnet_fbeta_score: 0.0257 - capsnet_binary_accuracy: 0.5399 - decoder_precision: 0.9650 - decoder_recall: 0.9694 - decoder_fbeta_score: 0.9658 - decoder_binary_accuracy: 0.0121Epoch 00005: val_loss improved from 1.39141 to 1.38998, saving model to saved_models/CapsNet.best.from_scratch.hdf5\n",
      "106/106 [==============================] - 34s 323ms/step - loss: 1.3937 - capsnet_loss: 0.7005 - decoder_loss: 0.6932 - capsnet_precision: 0.1038 - capsnet_recall: 0.0073 - capsnet_fbeta_score: 0.0283 - capsnet_binary_accuracy: 0.5407 - decoder_precision: 0.9652 - decoder_recall: 0.9694 - decoder_fbeta_score: 0.9660 - decoder_binary_accuracy: 0.0121 - val_loss: 1.3900 - val_capsnet_loss: 0.6968 - val_decoder_loss: 0.6932 - val_capsnet_precision: 0.0582 - val_capsnet_recall: 0.0038 - val_capsnet_fbeta_score: 0.0149 - val_capsnet_binary_accuracy: 0.5391 - val_decoder_precision: 0.9596 - val_decoder_recall: 0.9692 - val_decoder_fbeta_score: 0.9614 - val_decoder_binary_accuracy: 0.0096\n",
      "Epoch 6/20\n",
      "105/106 [============================>.] - ETA: 0s - loss: 1.3911 - capsnet_loss: 0.6979 - decoder_loss: 0.6932 - capsnet_precision: 0.0444 - capsnet_recall: 0.0037 - capsnet_fbeta_score: 0.0131 - capsnet_binary_accuracy: 0.5470 - decoder_precision: 0.9645 - decoder_recall: 0.9693 - decoder_fbeta_score: 0.9654 - decoder_binary_accuracy: 0.0120Epoch 00006: val_loss improved from 1.38998 to 1.38856, saving model to saved_models/CapsNet.best.from_scratch.hdf5\n",
      "106/106 [==============================] - 34s 323ms/step - loss: 1.3912 - capsnet_loss: 0.6980 - decoder_loss: 0.6932 - capsnet_precision: 0.0440 - capsnet_recall: 0.0037 - capsnet_fbeta_score: 0.0130 - capsnet_binary_accuracy: 0.5463 - decoder_precision: 0.9643 - decoder_recall: 0.9693 - decoder_fbeta_score: 0.9653 - decoder_binary_accuracy: 0.0120 - val_loss: 1.3886 - val_capsnet_loss: 0.6954 - val_decoder_loss: 0.6932 - val_capsnet_precision: 0.1455 - val_capsnet_recall: 0.0132 - val_capsnet_fbeta_score: 0.0479 - val_capsnet_binary_accuracy: 0.5409 - val_decoder_precision: 0.9596 - val_decoder_recall: 0.9692 - val_decoder_fbeta_score: 0.9614 - val_decoder_binary_accuracy: 0.0096\n",
      "Epoch 7/20\n",
      "105/106 [============================>.] - ETA: 0s - loss: 1.3907 - capsnet_loss: 0.6976 - decoder_loss: 0.6932 - capsnet_precision: 0.2381 - capsnet_recall: 0.0208 - capsnet_fbeta_score: 0.0734 - capsnet_binary_accuracy: 0.5437 - decoder_precision: 0.9644 - decoder_recall: 0.9691 - decoder_fbeta_score: 0.9652 - decoder_binary_accuracy: 0.0119Epoch 00007: val_loss improved from 1.38856 to 1.38721, saving model to saved_models/CapsNet.best.from_scratch.hdf5\n",
      "106/106 [==============================] - 34s 323ms/step - loss: 1.3906 - capsnet_loss: 0.6974 - decoder_loss: 0.6932 - capsnet_precision: 0.2452 - capsnet_recall: 0.0213 - capsnet_fbeta_score: 0.0755 - capsnet_binary_accuracy: 0.5445 - decoder_precision: 0.9646 - decoder_recall: 0.9691 - decoder_fbeta_score: 0.9654 - decoder_binary_accuracy: 0.0119 - val_loss: 1.3872 - val_capsnet_loss: 0.6941 - val_decoder_loss: 0.6932 - val_capsnet_precision: 0.0873 - val_capsnet_recall: 0.0083 - val_capsnet_fbeta_score: 0.0296 - val_capsnet_binary_accuracy: 0.5400 - val_decoder_precision: 0.9596 - val_decoder_recall: 0.9691 - val_decoder_fbeta_score: 0.9614 - val_decoder_binary_accuracy: 0.0096\n"
     ]
    },
    {
     "name": "stdout",
     "output_type": "stream",
     "text": [
      "Epoch 8/20\n",
      "105/106 [============================>.] - ETA: 0s - loss: 1.3888 - capsnet_loss: 0.6957 - decoder_loss: 0.6932 - capsnet_precision: 0.1333 - capsnet_recall: 0.0116 - capsnet_fbeta_score: 0.0417 - capsnet_binary_accuracy: 0.5402 - decoder_precision: 0.9653 - decoder_recall: 0.9692 - decoder_fbeta_score: 0.9660 - decoder_binary_accuracy: 0.0113Epoch 00008: val_loss improved from 1.38721 to 1.38614, saving model to saved_models/CapsNet.best.from_scratch.hdf5\n",
      "106/106 [==============================] - 34s 322ms/step - loss: 1.3890 - capsnet_loss: 0.6959 - decoder_loss: 0.6932 - capsnet_precision: 0.1321 - capsnet_recall: 0.0115 - capsnet_fbeta_score: 0.0413 - capsnet_binary_accuracy: 0.5395 - decoder_precision: 0.9655 - decoder_recall: 0.9692 - decoder_fbeta_score: 0.9661 - decoder_binary_accuracy: 0.0112 - val_loss: 1.3861 - val_capsnet_loss: 0.6930 - val_decoder_loss: 0.6932 - val_capsnet_precision: 0.3345 - val_capsnet_recall: 0.0320 - val_capsnet_fbeta_score: 0.1099 - val_capsnet_binary_accuracy: 0.5473 - val_decoder_precision: 0.9596 - val_decoder_recall: 0.9690 - val_decoder_fbeta_score: 0.9614 - val_decoder_binary_accuracy: 0.0096\n",
      "Epoch 9/20\n",
      "105/106 [============================>.] - ETA: 0s - loss: 1.3878 - capsnet_loss: 0.6946 - decoder_loss: 0.6932 - capsnet_precision: 0.3270 - capsnet_recall: 0.0273 - capsnet_fbeta_score: 0.0996 - capsnet_binary_accuracy: 0.5488 - decoder_precision: 0.9647 - decoder_recall: 0.9691 - decoder_fbeta_score: 0.9655 - decoder_binary_accuracy: 0.0117Epoch 00009: val_loss improved from 1.38614 to 1.38522, saving model to saved_models/CapsNet.best.from_scratch.hdf5\n",
      "106/106 [==============================] - 34s 323ms/step - loss: 1.3880 - capsnet_loss: 0.6949 - decoder_loss: 0.6932 - capsnet_precision: 0.3334 - capsnet_recall: 0.0275 - capsnet_fbeta_score: 0.1009 - capsnet_binary_accuracy: 0.5481 - decoder_precision: 0.9646 - decoder_recall: 0.9691 - decoder_fbeta_score: 0.9654 - decoder_binary_accuracy: 0.0117 - val_loss: 1.3852 - val_capsnet_loss: 0.6921 - val_decoder_loss: 0.6932 - val_capsnet_precision: 0.2182 - val_capsnet_recall: 0.0222 - val_capsnet_fbeta_score: 0.0734 - val_capsnet_binary_accuracy: 0.5436 - val_decoder_precision: 0.9596 - val_decoder_recall: 0.9690 - val_decoder_fbeta_score: 0.9613 - val_decoder_binary_accuracy: 0.0095\n",
      "Epoch 10/20\n",
      "105/106 [============================>.] - ETA: 0s - loss: 1.3882 - capsnet_loss: 0.6950 - decoder_loss: 0.6932 - capsnet_precision: 0.4125 - capsnet_recall: 0.0374 - capsnet_fbeta_score: 0.1319 - capsnet_binary_accuracy: 0.5440 - decoder_precision: 0.9623 - decoder_recall: 0.9690 - decoder_fbeta_score: 0.9636 - decoder_binary_accuracy: 0.0120Epoch 00010: val_loss improved from 1.38522 to 1.38431, saving model to saved_models/CapsNet.best.from_scratch.hdf5\n",
      "106/106 [==============================] - 34s 322ms/step - loss: 1.3881 - capsnet_loss: 0.6949 - decoder_loss: 0.6932 - capsnet_precision: 0.4087 - capsnet_recall: 0.0371 - capsnet_fbeta_score: 0.1307 - capsnet_binary_accuracy: 0.5439 - decoder_precision: 0.9626 - decoder_recall: 0.9690 - decoder_fbeta_score: 0.9638 - decoder_binary_accuracy: 0.0120 - val_loss: 1.3843 - val_capsnet_loss: 0.6912 - val_decoder_loss: 0.6932 - val_capsnet_precision: 0.3345 - val_capsnet_recall: 0.0320 - val_capsnet_fbeta_score: 0.1099 - val_capsnet_binary_accuracy: 0.5473 - val_decoder_precision: 0.9596 - val_decoder_recall: 0.9690 - val_decoder_fbeta_score: 0.9613 - val_decoder_binary_accuracy: 0.0095\n",
      "Epoch 11/20\n",
      "105/106 [============================>.] - ETA: 0s - loss: 1.3872 - capsnet_loss: 0.6940 - decoder_loss: 0.6932 - capsnet_precision: 0.4667 - capsnet_recall: 0.0518 - capsnet_fbeta_score: 0.1672 - capsnet_binary_accuracy: 0.5467 - decoder_precision: 0.9654 - decoder_recall: 0.9690 - decoder_fbeta_score: 0.9661 - decoder_binary_accuracy: 0.0118Epoch 00011: val_loss improved from 1.38431 to 1.38356, saving model to saved_models/CapsNet.best.from_scratch.hdf5\n",
      "106/106 [==============================] - 34s 323ms/step - loss: 1.3871 - capsnet_loss: 0.6940 - decoder_loss: 0.6932 - capsnet_precision: 0.4670 - capsnet_recall: 0.0522 - capsnet_fbeta_score: 0.1681 - capsnet_binary_accuracy: 0.5478 - decoder_precision: 0.9654 - decoder_recall: 0.9690 - decoder_fbeta_score: 0.9660 - decoder_binary_accuracy: 0.0118 - val_loss: 1.3836 - val_capsnet_loss: 0.6904 - val_decoder_loss: 0.6932 - val_capsnet_precision: 0.3927 - val_capsnet_recall: 0.0456 - val_capsnet_fbeta_score: 0.1469 - val_capsnet_binary_accuracy: 0.5518 - val_decoder_precision: 0.9596 - val_decoder_recall: 0.9690 - val_decoder_fbeta_score: 0.9613 - val_decoder_binary_accuracy: 0.0095\n",
      "Epoch 12/20\n",
      "105/106 [============================>.] - ETA: 0s - loss: 1.3844 - capsnet_loss: 0.6912 - decoder_loss: 0.6932 - capsnet_precision: 0.3294 - capsnet_recall: 0.0373 - capsnet_fbeta_score: 0.1227 - capsnet_binary_accuracy: 0.5497 - decoder_precision: 0.9655 - decoder_recall: 0.9689 - decoder_fbeta_score: 0.9661 - decoder_binary_accuracy: 0.0115Epoch 00012: val_loss improved from 1.38356 to 1.38281, saving model to saved_models/CapsNet.best.from_scratch.hdf5\n",
      "106/106 [==============================] - 34s 324ms/step - loss: 1.3843 - capsnet_loss: 0.6912 - decoder_loss: 0.6932 - capsnet_precision: 0.3282 - capsnet_recall: 0.0377 - capsnet_fbeta_score: 0.1230 - capsnet_binary_accuracy: 0.5495 - decoder_precision: 0.9653 - decoder_recall: 0.9689 - decoder_fbeta_score: 0.9660 - decoder_binary_accuracy: 0.0115 - val_loss: 1.3828 - val_capsnet_loss: 0.6897 - val_decoder_loss: 0.6932 - val_capsnet_precision: 0.4267 - val_capsnet_recall: 0.0530 - val_capsnet_fbeta_score: 0.1650 - val_capsnet_binary_accuracy: 0.5555 - val_decoder_precision: 0.9596 - val_decoder_recall: 0.9689 - val_decoder_fbeta_score: 0.9613 - val_decoder_binary_accuracy: 0.0095\n",
      "Epoch 13/20\n",
      "105/106 [============================>.] - ETA: 0s - loss: 1.3837 - capsnet_loss: 0.6906 - decoder_loss: 0.6932 - capsnet_precision: 0.5105 - capsnet_recall: 0.0677 - capsnet_fbeta_score: 0.2101 - capsnet_binary_accuracy: 0.5580 - decoder_precision: 0.9653 - decoder_recall: 0.9690 - decoder_fbeta_score: 0.9659 - decoder_binary_accuracy: 0.0116Epoch 00013: val_loss improved from 1.38281 to 1.38236, saving model to saved_models/CapsNet.best.from_scratch.hdf5\n",
      "106/106 [==============================] - 34s 324ms/step - loss: 1.3836 - capsnet_loss: 0.6904 - decoder_loss: 0.6932 - capsnet_precision: 0.5151 - capsnet_recall: 0.0685 - capsnet_fbeta_score: 0.2126 - capsnet_binary_accuracy: 0.5589 - decoder_precision: 0.9652 - decoder_recall: 0.9690 - decoder_fbeta_score: 0.9659 - decoder_binary_accuracy: 0.0116 - val_loss: 1.3824 - val_capsnet_loss: 0.6892 - val_decoder_loss: 0.6932 - val_capsnet_precision: 0.3345 - val_capsnet_recall: 0.0320 - val_capsnet_fbeta_score: 0.1099 - val_capsnet_binary_accuracy: 0.5473 - val_decoder_precision: 0.9596 - val_decoder_recall: 0.9689 - val_decoder_fbeta_score: 0.9613 - val_decoder_binary_accuracy: 0.0095\n",
      "Epoch 14/20\n",
      "105/106 [============================>.] - ETA: 0s - loss: 1.3851 - capsnet_loss: 0.6920 - decoder_loss: 0.6932 - capsnet_precision: 0.5337 - capsnet_recall: 0.0678 - capsnet_fbeta_score: 0.2066 - capsnet_binary_accuracy: 0.5515 - decoder_precision: 0.9652 - decoder_recall: 0.9689 - decoder_fbeta_score: 0.9658 - decoder_binary_accuracy: 0.0115Epoch 00014: val_loss improved from 1.38236 to 1.38169, saving model to saved_models/CapsNet.best.from_scratch.hdf5\n",
      "106/106 [==============================] - 34s 324ms/step - loss: 1.3853 - capsnet_loss: 0.6921 - decoder_loss: 0.6932 - capsnet_precision: 0.5334 - capsnet_recall: 0.0678 - capsnet_fbeta_score: 0.2067 - capsnet_binary_accuracy: 0.5513 - decoder_precision: 0.9651 - decoder_recall: 0.9689 - decoder_fbeta_score: 0.9658 - decoder_binary_accuracy: 0.0115 - val_loss: 1.3817 - val_capsnet_loss: 0.6885 - val_decoder_loss: 0.6932 - val_capsnet_precision: 0.4461 - val_capsnet_recall: 0.0572 - val_capsnet_fbeta_score: 0.1749 - val_capsnet_binary_accuracy: 0.5564 - val_decoder_precision: 0.9596 - val_decoder_recall: 0.9689 - val_decoder_fbeta_score: 0.9613 - val_decoder_binary_accuracy: 0.0095\n",
      "Epoch 15/20\n",
      "105/106 [============================>.] - ETA: 0s - loss: 1.3843 - capsnet_loss: 0.6911 - decoder_loss: 0.6932 - capsnet_precision: 0.5532 - capsnet_recall: 0.0791 - capsnet_fbeta_score: 0.2330 - capsnet_binary_accuracy: 0.5568 - decoder_precision: 0.9659 - decoder_recall: 0.9689 - decoder_fbeta_score: 0.9664 - decoder_binary_accuracy: 0.0118Epoch 00015: val_loss improved from 1.38169 to 1.38129, saving model to saved_models/CapsNet.best.from_scratch.hdf5\n",
      "106/106 [==============================] - 34s 324ms/step - loss: 1.3841 - capsnet_loss: 0.6909 - decoder_loss: 0.6932 - capsnet_precision: 0.5542 - capsnet_recall: 0.0800 - capsnet_fbeta_score: 0.2349 - capsnet_binary_accuracy: 0.5581 - decoder_precision: 0.9658 - decoder_recall: 0.9689 - decoder_fbeta_score: 0.9664 - decoder_binary_accuracy: 0.0118 - val_loss: 1.3813 - val_capsnet_loss: 0.6881 - val_decoder_loss: 0.6932 - val_capsnet_precision: 0.4558 - val_capsnet_recall: 0.0547 - val_capsnet_fbeta_score: 0.1719 - val_capsnet_binary_accuracy: 0.5564 - val_decoder_precision: 0.9596 - val_decoder_recall: 0.9689 - val_decoder_fbeta_score: 0.9613 - val_decoder_binary_accuracy: 0.0095\n",
      "Epoch 16/20\n",
      "105/106 [============================>.] - ETA: 0s - loss: 1.3834 - capsnet_loss: 0.6903 - decoder_loss: 0.6932 - capsnet_precision: 0.5132 - capsnet_recall: 0.0835 - capsnet_fbeta_score: 0.2343 - capsnet_binary_accuracy: 0.5515 - decoder_precision: 0.9649 - decoder_recall: 0.9689 - decoder_fbeta_score: 0.9656 - decoder_binary_accuracy: 0.0113Epoch 00016: val_loss improved from 1.38129 to 1.38085, saving model to saved_models/CapsNet.best.from_scratch.hdf5\n",
      "106/106 [==============================] - 34s 324ms/step - loss: 1.3836 - capsnet_loss: 0.6905 - decoder_loss: 0.6932 - capsnet_precision: 0.5178 - capsnet_recall: 0.0831 - capsnet_fbeta_score: 0.2340 - capsnet_binary_accuracy: 0.5498 - decoder_precision: 0.9650 - decoder_recall: 0.9689 - decoder_fbeta_score: 0.9657 - decoder_binary_accuracy: 0.0114 - val_loss: 1.3809 - val_capsnet_loss: 0.6877 - val_decoder_loss: 0.6932 - val_capsnet_precision: 0.4461 - val_capsnet_recall: 0.0572 - val_capsnet_fbeta_score: 0.1749 - val_capsnet_binary_accuracy: 0.5564 - val_decoder_precision: 0.9596 - val_decoder_recall: 0.9689 - val_decoder_fbeta_score: 0.9613 - val_decoder_binary_accuracy: 0.0095\n",
      "Epoch 17/20\n",
      "105/106 [============================>.] - ETA: 0s - loss: 1.3818 - capsnet_loss: 0.6887 - decoder_loss: 0.6932 - capsnet_precision: 0.5757 - capsnet_recall: 0.0837 - capsnet_fbeta_score: 0.2434 - capsnet_binary_accuracy: 0.5625 - decoder_precision: 0.9639 - decoder_recall: 0.9690 - decoder_fbeta_score: 0.9648 - decoder_binary_accuracy: 0.0119Epoch 00017: val_loss improved from 1.38085 to 1.38048, saving model to saved_models/CapsNet.best.from_scratch.hdf5\n",
      "106/106 [==============================] - 34s 324ms/step - loss: 1.3820 - capsnet_loss: 0.6888 - decoder_loss: 0.6932 - capsnet_precision: 0.5765 - capsnet_recall: 0.0839 - capsnet_fbeta_score: 0.2442 - capsnet_binary_accuracy: 0.5616 - decoder_precision: 0.9640 - decoder_recall: 0.9690 - decoder_fbeta_score: 0.9649 - decoder_binary_accuracy: 0.0119 - val_loss: 1.3805 - val_capsnet_loss: 0.6873 - val_decoder_loss: 0.6932 - val_capsnet_precision: 0.4461 - val_capsnet_recall: 0.0572 - val_capsnet_fbeta_score: 0.1749 - val_capsnet_binary_accuracy: 0.5564 - val_decoder_precision: 0.9596 - val_decoder_recall: 0.9689 - val_decoder_fbeta_score: 0.9613 - val_decoder_binary_accuracy: 0.0095\n",
      "Epoch 18/20\n",
      "105/106 [============================>.] - ETA: 0s - loss: 1.3840 - capsnet_loss: 0.6908 - decoder_loss: 0.6932 - capsnet_precision: 0.5576 - capsnet_recall: 0.0947 - capsnet_fbeta_score: 0.2609 - capsnet_binary_accuracy: 0.5521 - decoder_precision: 0.9664 - decoder_recall: 0.9689 - decoder_fbeta_score: 0.9668 - decoder_binary_accuracy: 0.0111Epoch 00018: val_loss improved from 1.38048 to 1.38006, saving model to saved_models/CapsNet.best.from_scratch.hdf5\n",
      "106/106 [==============================] - 34s 324ms/step - loss: 1.3840 - capsnet_loss: 0.6908 - decoder_loss: 0.6932 - capsnet_precision: 0.5523 - capsnet_recall: 0.0938 - capsnet_fbeta_score: 0.2584 - capsnet_binary_accuracy: 0.5513 - decoder_precision: 0.9665 - decoder_recall: 0.9689 - decoder_fbeta_score: 0.9669 - decoder_binary_accuracy: 0.0111 - val_loss: 1.3801 - val_capsnet_loss: 0.6869 - val_decoder_loss: 0.6932 - val_capsnet_precision: 0.5333 - val_capsnet_recall: 0.0769 - val_capsnet_fbeta_score: 0.2275 - val_capsnet_binary_accuracy: 0.5582 - val_decoder_precision: 0.9596 - val_decoder_recall: 0.9689 - val_decoder_fbeta_score: 0.9613 - val_decoder_binary_accuracy: 0.0095\n",
      "Epoch 19/20\n",
      "105/106 [============================>.] - ETA: 0s - loss: 1.3828 - capsnet_loss: 0.6896 - decoder_loss: 0.6932 - capsnet_precision: 0.6126 - capsnet_recall: 0.1160 - capsnet_fbeta_score: 0.3079 - capsnet_binary_accuracy: 0.5646 - decoder_precision: 0.9643 - decoder_recall: 0.9688 - decoder_fbeta_score: 0.9651 - decoder_binary_accuracy: 0.0114Epoch 00019: val_loss improved from 1.38006 to 1.37979, saving model to saved_models/CapsNet.best.from_scratch.hdf5\n",
      "106/106 [==============================] - 34s 323ms/step - loss: 1.3825 - capsnet_loss: 0.6893 - decoder_loss: 0.6932 - capsnet_precision: 0.6163 - capsnet_recall: 0.1160 - capsnet_fbeta_score: 0.3086 - capsnet_binary_accuracy: 0.5663 - decoder_precision: 0.9642 - decoder_recall: 0.9688 - decoder_fbeta_score: 0.9650 - decoder_binary_accuracy: 0.0114 - val_loss: 1.3798 - val_capsnet_loss: 0.6866 - val_decoder_loss: 0.6932 - val_capsnet_precision: 0.5042 - val_capsnet_recall: 0.0671 - val_capsnet_fbeta_score: 0.2035 - val_capsnet_binary_accuracy: 0.5564 - val_decoder_precision: 0.9596 - val_decoder_recall: 0.9689 - val_decoder_fbeta_score: 0.9613 - val_decoder_binary_accuracy: 0.0095\n",
      "Epoch 20/20\n",
      "105/106 [============================>.] - ETA: 0s - loss: 1.3803 - capsnet_loss: 0.6872 - decoder_loss: 0.6932 - capsnet_precision: 0.5759 - capsnet_recall: 0.1119 - capsnet_fbeta_score: 0.2913 - capsnet_binary_accuracy: 0.5640 - decoder_precision: 0.9651 - decoder_recall: 0.9689 - decoder_fbeta_score: 0.9658 - decoder_binary_accuracy: 0.0115Epoch 00020: val_loss improved from 1.37979 to 1.37952, saving model to saved_models/CapsNet.best.from_scratch.hdf5\n",
      "106/106 [==============================] - 34s 323ms/step - loss: 1.3805 - capsnet_loss: 0.6874 - decoder_loss: 0.6932 - capsnet_precision: 0.5704 - capsnet_recall: 0.1108 - capsnet_fbeta_score: 0.2885 - capsnet_binary_accuracy: 0.5628 - decoder_precision: 0.9652 - decoder_recall: 0.9689 - decoder_fbeta_score: 0.9659 - decoder_binary_accuracy: 0.0115 - val_loss: 1.3795 - val_capsnet_loss: 0.6864 - val_decoder_loss: 0.6932 - val_capsnet_precision: 0.4558 - val_capsnet_recall: 0.0626 - val_capsnet_fbeta_score: 0.1880 - val_capsnet_binary_accuracy: 0.5564 - val_decoder_precision: 0.9596 - val_decoder_recall: 0.9689 - val_decoder_fbeta_score: 0.9613 - val_decoder_binary_accuracy: 0.0095\n"
     ]
    },
    {
     "data": {
      "image/png": "[encoded data removed]",
      "text/plain": [
       "<matplotlib.figure.Figure at 0x7f61cc2c0c10>"
      ]
     },
     "metadata": {},
     "output_type": "display_data"
    },
    {
     "data": {
      "text/plain": [
       "<keras.engine.training.Model at 0x7f61d5643a50>"
      ]
     },
     "execution_count": 7,
     "metadata": {},
     "output_type": "execute_result"
    }
   ],
   "source": [
    "train(model=model, data=((train_tensors, train_labels), (valid_tensors, valid_labels)), \n",
    "      lr=0.001, lr_decay=0.9, lam_recon=0.392, batch_size=32, shift_fraction=0.1, epochs=20)"
   ]
  },
  {
   "cell_type": "markdown",
   "metadata": {},
   "source": [
    "# Metric"
   ]
  },
  {
   "cell_type": "code",
   "execution_count": 8,
   "metadata": {
    "collapsed": true
   },
   "outputs": [],
   "source": [
    "model.load_weights('saved_models/CapsNet.best.from_scratch.hdf5')\n",
    "prediction = eval_model.predict(test_tensors)"
   ]
  },
  {
   "cell_type": "code",
   "execution_count": 11,
   "metadata": {},
   "outputs": [
    {
     "name": "stdout",
     "output_type": "stream",
     "text": [
      "Precision: 0.734694 %\n",
      "Recall: 0.073022 %\n",
      "Fscore: 0.261248 %\n"
     ]
    }
   ],
   "source": [
    "threshold = 0.5\n",
    "beta = 0.5\n",
    "\n",
    "pre = K.eval(precision_threshold(threshold = threshold)(K.variable(value=test_labels),\n",
    "                                   K.variable(value=prediction[0])))\n",
    "rec = K.eval(recall_threshold(threshold = threshold)(K.variable(value=test_labels),\n",
    "                                   K.variable(value=prediction[0])))\n",
    "fsc = K.eval(fbeta_score_threshold(beta = beta, threshold = threshold)(K.variable(value=test_labels),\n",
    "                                   K.variable(value=prediction[0])))\n",
    "\n",
    "print (\"Precision: %f %%\\nRecall: %f %%\\nFscore: %f %%\"% (pre, rec, fsc))"
   ]
  },
  {
   "cell_type": "code",
   "execution_count": 12,
   "metadata": {},
   "outputs": [
    {
     "data": {
      "text/plain": [
       "0.57466066"
      ]
     },
     "execution_count": 12,
     "metadata": {},
     "output_type": "execute_result"
    }
   ],
   "source": [
    "K.eval(binary_accuracy(K.variable(value=test_labels),\n",
    "                                   K.variable(value=prediction[0])))"
   ]
  }
 ],
 "metadata": {
  "kernelspec": {
   "display_name": "Python 3",
   "language": "python",
   "name": "python3"
  },
  "language_info": {
   "codemirror_mode": {
    "name": "ipython",
    "version": 3
   },
   "file_extension": ".py",
   "mimetype": "text/x-python",
   "name": "python",
   "nbconvert_exporter": "python",
   "pygments_lexer": "ipython3",
   "version": "3.5.2"
  }
 },
 "nbformat": 4,
 "nbformat_minor": 2
}
