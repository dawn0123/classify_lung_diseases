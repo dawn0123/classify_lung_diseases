{
 "cells": [
  {
   "cell_type": "markdown",
   "metadata": {},
   "source": [
    "# Data preprocessing"
   ]
  },
  {
   "cell_type": "code",
   "execution_count": 1,
   "metadata": {
    "collapsed": true
   },
   "outputs": [],
   "source": [
    "import numpy as np\n",
    "import pandas as pd\n",
    "from glob import glob\n",
    "from tqdm import tqdm\n",
    "from sklearn.utils import shuffle\n",
    "\n",
    "df = pd.read_csv('sample/Data_Entry_2017.csv')\n",
    "\n",
    "diseases = ['Cardiomegaly','Emphysema','Effusion','Hernia','Nodule','Pneumothorax','Atelectasis','Pleural_Thickening','Mass','Edema','Consolidation','Infiltration','Fibrosis','Pneumonia']\n",
    "#Number diseases\n",
    "for disease in diseases :\n",
    "    df[disease] = df['Finding Labels'].apply(lambda x: 1 if disease in x else 0)\n",
    "    \n",
    "#remove Y after age\n",
    "df['Age']=df['Patient Age'].apply(lambda x: x[:-1]).astype(int)\n",
    "df['Age Type']=df['Patient Age'].apply(lambda x: x[-1:])\n",
    "df.loc[df['Age Type']=='M',['Age']] = df[df['Age Type']=='M']['Age'].apply(lambda x: round(x/12.)).astype(int)\n",
    "df.loc[df['Age Type']=='D',['Age']] = df[df['Age Type']=='D']['Age'].apply(lambda x: round(x/365.)).astype(int)\n",
    "# remove outliers\n",
    "df = df.drop(df['Age'].sort_values(ascending=False).head(16).index)\n",
    "df['Age'] = df['Age']/df['Age'].max()\n",
    "\n",
    "#one hot data\n",
    "# df = df.drop(df.index[4242])\n",
    "df = df.join(pd.get_dummies(df['Patient Gender']))\n",
    "df = df.join(pd.get_dummies(df['View Position']))\n",
    "\n",
    "#random samples\n",
    "df = shuffle(df)\n",
    "\n",
    "#get other data\n",
    "data = df[['Age', 'F', 'M', 'AP', 'PA']]\n",
    "data = np.array(data)\n",
    "\n",
    "labels = df[diseases].as_matrix()\n",
    "files_list = ('sample/images/' + df['Image Index']).tolist()\n",
    "\n",
    "# #test to perfect\n",
    "# labelB = df['Emphysema'].tolist()\n",
    "\n",
    "labelB = (df[diseases].sum(axis=1)>0).tolist()\n",
    "labelB = np.array(labelB, dtype=int)"
   ]
  },
  {
   "cell_type": "markdown",
   "metadata": {},
   "source": [
    "In the call bellow, I load, convert images to numpy array and split dataset to training, validation and testing"
   ]
  },
  {
   "cell_type": "code",
   "execution_count": 2,
   "metadata": {},
   "outputs": [
    {
     "name": "stderr",
     "output_type": "stream",
     "text": [
      "Using TensorFlow backend.\n",
      "/home/aind2/anaconda3/lib/python3.6/importlib/_bootstrap.py:219: RuntimeWarning: compiletime version 3.5 of module 'tensorflow.python.framework.fast_tensor_util' does not match runtime version 3.6\n",
      "  return f(*args, **kwds)\n",
      "100%|██████████| 89600/89600 [19:36<00:00, 76.18it/s]\n",
      "100%|██████████| 11200/11200 [02:26<00:00, 76.22it/s]\n",
      "100%|██████████| 11304/11304 [02:27<00:00, 76.46it/s]\n"
     ]
    }
   ],
   "source": [
    "from keras.preprocessing import image                  \n",
    "from tqdm import tqdm\n",
    "\n",
    "def path_to_tensor(img_path, shape):\n",
    "    # loads RGB image as PIL.Image.Image type\n",
    "    img = image.load_img(img_path, grayscale=True, target_size=shape)\n",
    "    # convert PIL.Image.Image type to 3D tensor with shape (224, 224, 1)\n",
    "    x = image.img_to_array(img)/255\n",
    "    # convert 3D tensor to 4D tensor with shape (1, 224, 224, 1) and return 4D tensor\n",
    "    return np.expand_dims(x, axis=0)\n",
    "\n",
    "def paths_to_tensor(img_paths, shape):\n",
    "    list_of_tensors = [path_to_tensor(img_path, shape) for img_path in tqdm(img_paths)]\n",
    "    return np.vstack(list_of_tensors)\n",
    "\n",
    "train_labels = labelB[:89600][:, np.newaxis]\n",
    "valid_labels = labelB[89600:100800][:, np.newaxis]\n",
    "test_labels = labelB[100800:][:, np.newaxis]\n",
    "\n",
    "train_data = data[:89600]\n",
    "valid_data = data[89600:100800]\n",
    "test_data = data[100800:]\n",
    "\n",
    "img_shape = (64, 64)\n",
    "train_tensors = paths_to_tensor(files_list[:89600], shape = img_shape)\n",
    "valid_tensors = paths_to_tensor(files_list[89600:100800], shape = img_shape)\n",
    "test_tensors = paths_to_tensor(files_list[100800:], shape = img_shape)"
   ]
  },
  {
   "cell_type": "markdown",
   "metadata": {},
   "source": [
    "Convert label from 1D to 2D"
   ]
  },
  {
   "cell_type": "code",
   "execution_count": 3,
   "metadata": {
    "collapsed": true
   },
   "outputs": [],
   "source": [
    "def onhotLabels(label):\n",
    "    from sklearn.preprocessing import OneHotEncoder\n",
    "    enc = OneHotEncoder()\n",
    "    enc.fit(label)\n",
    "    return enc.transform(label).toarray()\n",
    "\n",
    "train_labels = onhotLabels(train_labels)\n",
    "valid_labels = onhotLabels(valid_labels)\n",
    "test_labels = onhotLabels(test_labels)"
   ]
  },
  {
   "cell_type": "markdown",
   "metadata": {},
   "source": [
    "# CapsNet model"
   ]
  },
  {
   "cell_type": "code",
   "execution_count": 4,
   "metadata": {
    "scrolled": false
   },
   "outputs": [
    {
     "name": "stdout",
     "output_type": "stream",
     "text": [
      "____________________________________________________________________________________________________\n",
      "Layer (type)                     Output Shape          Param #     Connected to                     \n",
      "====================================================================================================\n",
      "input_1 (InputLayer)             (None, 64, 64, 1)     0                                            \n",
      "____________________________________________________________________________________________________\n",
      "conv1 (Conv2D)                   (None, 32, 32, 256)   20992       input_1[0][0]                    \n",
      "____________________________________________________________________________________________________\n",
      "primarycap_conv2d (Conv2D)       (None, 16, 16, 256)   5308672     conv1[0][0]                      \n",
      "____________________________________________________________________________________________________\n",
      "primarycap_reshape (Reshape)     (None, 8192, 8)       0           primarycap_conv2d[0][0]          \n",
      "____________________________________________________________________________________________________\n",
      "primarycap_squash (Lambda)       (None, 8192, 8)       0           primarycap_reshape[0][0]         \n",
      "____________________________________________________________________________________________________\n",
      "digitcaps (CapsuleLayer)         (None, 2, 16)         2097152     primarycap_squash[0][0]          \n",
      "____________________________________________________________________________________________________\n",
      "input_2 (InputLayer)             (None, 2)             0                                            \n",
      "____________________________________________________________________________________________________\n",
      "mask_1 (Mask)                    (None, 32)            0           digitcaps[0][0]                  \n",
      "                                                                   input_2[0][0]                    \n",
      "____________________________________________________________________________________________________\n",
      "capsnet (Length)                 (None, 2)             0           digitcaps[0][0]                  \n",
      "____________________________________________________________________________________________________\n",
      "decoder (Sequential)             (None, 64, 64, 1)     4740608     mask_1[0][0]                     \n",
      "====================================================================================================\n",
      "Total params: 12,167,424\n",
      "Trainable params: 12,167,424\n",
      "Non-trainable params: 0\n",
      "____________________________________________________________________________________________________\n"
     ]
    }
   ],
   "source": [
    "import os\n",
    "import argparse\n",
    "from keras.preprocessing.image import ImageDataGenerator\n",
    "from keras import callbacks\n",
    "\n",
    "import numpy as np\n",
    "from keras import layers, models, optimizers\n",
    "from keras import backend as K\n",
    "import matplotlib.pyplot as plt\n",
    "from PIL import Image\n",
    "from capsulelayers import CapsuleLayer, PrimaryCap, Length, Mask\n",
    "\n",
    "def CapsNet(input_shape, n_class, routings):\n",
    "    \"\"\"\n",
    "    A Capsule Network on MNIST.\n",
    "    :param input_shape: data shape, 3d, [width, height, channels]\n",
    "    :param n_class: number of classes\n",
    "    :param routings: number of routing iterations\n",
    "    :return: Two Keras Models, the first one used for training, and the second one for evaluation.\n",
    "            `eval_model` can also be used for training.\n",
    "    \"\"\"\n",
    "    x = layers.Input(shape=input_shape)\n",
    "\n",
    "    # Layer 1: Just a conventional Conv2D layer\n",
    "    conv1 = layers.Conv2D(filters=256, kernel_size=9, strides=2, padding='same', activation='relu', name='conv1')(x)\n",
    "\n",
    "    # Layer 2: Conv2D layer with `squash` activation, then reshape to [None, num_capsule, dim_capsule]\n",
    "    primarycaps = PrimaryCap(conv1, dim_capsule=8, n_channels=32, kernel_size=9, strides=2, padding='same')\n",
    "\n",
    "    # Layer 3: Capsule layer. Routing algorithm works here.\n",
    "    digitcaps = CapsuleLayer(num_capsule=n_class, dim_capsule=16, routings=routings,\n",
    "                             name='digitcaps')(primarycaps)\n",
    "\n",
    "    # Layer 4: This is an auxiliary layer to replace each capsule with its length. Just to match the true label's shape.\n",
    "    # If using tensorflow, this will not be necessary. :)\n",
    "    out_caps = Length(name='capsnet')(digitcaps)\n",
    "\n",
    "    # Decoder network.\n",
    "    y = layers.Input(shape=(n_class,))\n",
    "    masked_by_y = Mask()([digitcaps, y])  # The true label is used to mask the output of capsule layer. For training\n",
    "    masked = Mask()(digitcaps)  # Mask using the capsule with maximal length. For prediction\n",
    "\n",
    "    # Shared Decoder model in training and prediction\n",
    "    decoder = models.Sequential(name='decoder')\n",
    "    decoder.add(layers.Dense(512, activation='relu', input_dim=16*n_class))\n",
    "    decoder.add(layers.Dense(1024, activation='relu'))\n",
    "    decoder.add(layers.Dense(np.prod(input_shape), activation='sigmoid'))\n",
    "    decoder.add(layers.Reshape(target_shape=input_shape, name='out_recon'))\n",
    "\n",
    "    # Models for training and evaluation (prediction)\n",
    "    train_model = models.Model([x, y], [out_caps, decoder(masked_by_y)])\n",
    "    eval_model = models.Model(x, [out_caps, decoder(masked)])\n",
    "\n",
    "    # manipulate model\n",
    "    noise = layers.Input(shape=(n_class, 16))\n",
    "    noised_digitcaps = layers.Add()([digitcaps, noise])\n",
    "    masked_noised_y = Mask()([noised_digitcaps, y])\n",
    "    manipulate_model = models.Model([x, y, noise], decoder(masked_noised_y))\n",
    "    return train_model, eval_model, manipulate_model\n",
    "\n",
    "model, eval_model, manipulate_model = CapsNet(input_shape=train_tensors.shape[1:],\n",
    "                                                  n_class=len(np.unique(train_labels)),\n",
    "                                                  routings=4)\n",
    "\n",
    "model.summary()"
   ]
  },
  {
   "cell_type": "markdown",
   "metadata": {},
   "source": [
    "I implement custom matrics for evaluation"
   ]
  },
  {
   "cell_type": "code",
   "execution_count": 5,
   "metadata": {
    "collapsed": true
   },
   "outputs": [],
   "source": [
    "from keras import backend as K\n",
    "\n",
    "def binary_accuracy(y_true, y_pred):\n",
    "    y_true, y_pred = K.cast(K.argmax(y_true, axis=1), K.floatx()), K.cast(K.argmax(y_pred, axis=1), K.floatx())\n",
    "    return K.mean(K.equal(y_true, K.round(y_pred)))\n",
    "\n",
    "def precision_threshold(threshold = 0.5):\n",
    "    def precision(y_true, y_pred):\n",
    "        y_true, y_pred = K.cast(K.argmax(y_true, axis=1), K.floatx()), K.cast(K.argmax(y_pred, axis=1), K.floatx())\n",
    "        threshold_value = threshold\n",
    "        y_pred = K.cast(K.greater(K.clip(y_pred, 0, 1), threshold_value), K.floatx())\n",
    "        true_positives = K.round(K.sum(K.clip(y_true * y_pred, 0, 1)))\n",
    "        predicted_positives = K.sum(y_pred)\n",
    "        precision_ratio = true_positives / (predicted_positives + K.epsilon())\n",
    "        return precision_ratio\n",
    "    return precision\n",
    "\n",
    "def recall_threshold(threshold = 0.5):\n",
    "    def recall(y_true, y_pred):\n",
    "        y_true, y_pred = K.cast(K.argmax(y_true, axis=1), K.floatx()), K.cast(K.argmax(y_pred, axis=1), K.floatx())\n",
    "        threshold_value = threshold\n",
    "        y_pred = K.cast(K.greater(K.clip(y_pred, 0, 1), threshold_value), K.floatx())\n",
    "        true_positives = K.round(K.sum(K.clip(y_true * y_pred, 0, 1)))\n",
    "        possible_positives = K.sum(K.clip(y_true, 0, 1))\n",
    "        recall_ratio = true_positives / (possible_positives + K.epsilon())\n",
    "        return recall_ratio\n",
    "    return recall\n",
    "\n",
    "def fbeta_score_threshold(beta = 1, threshold = 0.5):\n",
    "    def fbeta_score(y_true, y_pred):\n",
    "        threshold_value = threshold\n",
    "        beta_value = beta\n",
    "        p = precision_threshold(threshold_value)(y_true, y_pred)\n",
    "        r = recall_threshold(threshold_value)(y_true, y_pred)\n",
    "        bb = beta_value ** 2\n",
    "        fbeta_score = (1 + bb) * (p * r) / (bb * p + r + K.epsilon())\n",
    "        return fbeta_score\n",
    "    return fbeta_score"
   ]
  },
  {
   "cell_type": "code",
   "execution_count": 6,
   "metadata": {
    "collapsed": true
   },
   "outputs": [],
   "source": [
    "def margin_loss(y_true, y_pred):\n",
    "    \"\"\"\n",
    "    Margin loss for Eq.(4). When y_true[i, :] contains not just one `1`, this loss should work too. Not test it.\n",
    "    :param y_true: [None, n_classes]\n",
    "    :param y_pred: [None, num_capsule]\n",
    "    :return: a scalar loss value.\n",
    "    \"\"\"\n",
    "    L = y_true * K.square(K.maximum(0., 0.9 - y_pred)) + \\\n",
    "        0.5 * (1 - y_true) * K.square(K.maximum(0., y_pred - 0.1))\n",
    "\n",
    "    return K.mean(K.sum(L, 1))\n",
    "\n",
    "def train(model, data, lr, lr_decay, lam_recon, batch_size, shift_fraction, epochs):\n",
    "    \"\"\"\n",
    "    Training a CapsuleNet\n",
    "    :param model: the CapsuleNet model\n",
    "    :param data: a tuple containing training and testing data, like `((x_train, y_train), (x_test, y_test))`\n",
    "    :param args: arguments\n",
    "    :return: The trained model\n",
    "    \"\"\"\n",
    "    # unpacking the data\n",
    "    (x_train, y_train), (x_test, y_test) = data\n",
    "\n",
    "    # callbacks\n",
    "    log = callbacks.CSVLogger('saved_models/CapsNet_log.csv')\n",
    "    tb = callbacks.TensorBoard(log_dir='saved_models/tensorboard-logs',\n",
    "                               batch_size=batch_size, histogram_freq=0)\n",
    "    checkpoint = callbacks.ModelCheckpoint(filepath='saved_models/CapsNet.best.from_scratch.hdf5', \n",
    "                               verbose=1, save_best_only=True)\n",
    "    cb_lr_decay = callbacks.LearningRateScheduler(schedule=lambda epoch: lr * (lr_decay ** epoch))\n",
    "\n",
    "    # compile the model\n",
    "    model.compile(optimizer='sgd', loss='binary_crossentropy', \n",
    "              metrics=[precision_threshold(threshold = 0.5), \n",
    "                      recall_threshold(threshold = 0.5), \n",
    "                      fbeta_score_threshold(beta=0.5, threshold = 0.5),\n",
    "                      binary_accuracy])\n",
    "\n",
    "    # Training without data augmentation:\n",
    "#     model.fit([x_train, y_train], [y_train, x_train], batch_size=batch_size, epochs=epochs,\n",
    "#               validation_data=[[x_test, y_test], [y_test, x_test]], callbacks=[log, tb, checkpoint, cb_lr_decay])\n",
    "\n",
    "    # Begin: Training with data augmentation ---------------------------------------------------------------------#\n",
    "    def train_generator(x, y, batch_size, shift_fraction=0.):\n",
    "        train_datagen = ImageDataGenerator(width_shift_range=shift_fraction,\n",
    "                                           height_shift_range=shift_fraction)  # shift up to 2 pixel for MNIST\n",
    "        generator = train_datagen.flow(x, y, batch_size=batch_size)\n",
    "        while 1:\n",
    "            x_batch, y_batch = generator.next()\n",
    "            yield ([x_batch, y_batch], [y_batch, x_batch])\n",
    "\n",
    "    # Training with data augmentation. If shift_fraction=0., also no augmentation.\n",
    "    model.fit_generator(generator=train_generator(x_train, y_train, batch_size, shift_fraction),\n",
    "                        steps_per_epoch=int(y_train.shape[0] / batch_size),\n",
    "                        epochs=epochs,\n",
    "                        validation_data=[[x_test, y_test], [y_test, x_test]],\n",
    "                        callbacks=[log, tb, checkpoint, cb_lr_decay])\n",
    "    # End: Training with data augmentation -----------------------------------------------------------------------#\n",
    "\n",
    "    from utils import plot_log\n",
    "    plot_log('saved_models/CapsNet_log.csv', show=True)\n",
    "\n",
    "    return model"
   ]
  },
  {
   "cell_type": "code",
   "execution_count": 7,
   "metadata": {},
   "outputs": [
    {
     "name": "stdout",
     "output_type": "stream",
     "text": [
      "Epoch 1/20\n",
      "2799/2800 [============================>.] - ETA: 0s - loss: 1.3833 - capsnet_loss: 0.6901 - decoder_loss: 0.6932 - capsnet_precision: 0.4934 - capsnet_recall: 0.2591 - capsnet_fbeta_score: 0.3791 - capsnet_binary_accuracy: 0.5758 - decoder_precision: 0.9667 - decoder_recall: 0.9915 - decoder_fbeta_score: 0.9715 - decoder_binary_accuracy: 0.0174Epoch 00000: val_loss improved from inf to 1.36107, saving model to saved_models/CapsNet.best.from_scratch.hdf5\n",
      "2800/2800 [==============================] - 856s - loss: 1.3833 - capsnet_loss: 0.6901 - decoder_loss: 0.6932 - capsnet_precision: 0.4935 - capsnet_recall: 0.2591 - capsnet_fbeta_score: 0.3792 - capsnet_binary_accuracy: 0.5758 - decoder_precision: 0.9667 - decoder_recall: 0.9915 - decoder_fbeta_score: 0.9715 - decoder_binary_accuracy: 0.0174 - val_loss: 1.3611 - val_capsnet_loss: 0.6679 - val_decoder_loss: 0.6931 - val_capsnet_precision: 0.6246 - val_capsnet_recall: 0.3468 - val_capsnet_fbeta_score: 0.5231 - val_capsnet_binary_accuracy: 0.6002 - val_decoder_precision: 0.9591 - val_decoder_recall: 0.9914 - val_decoder_fbeta_score: 0.9654 - val_decoder_binary_accuracy: 0.0164\n",
      "Epoch 2/20\n",
      "2799/2800 [============================>.] - ETA: 0s - loss: 1.3616 - capsnet_loss: 0.6684 - decoder_loss: 0.6931 - capsnet_precision: 0.6013 - capsnet_recall: 0.4278 - capsnet_fbeta_score: 0.5392 - capsnet_binary_accuracy: 0.6023 - decoder_precision: 0.9665 - decoder_recall: 0.9905 - decoder_fbeta_score: 0.9712 - decoder_binary_accuracy: 0.0172Epoch 00001: val_loss improved from 1.36107 to 1.35622, saving model to saved_models/CapsNet.best.from_scratch.hdf5\n",
      "2800/2800 [==============================] - 859s - loss: 1.3615 - capsnet_loss: 0.6684 - decoder_loss: 0.6931 - capsnet_precision: 0.6013 - capsnet_recall: 0.4277 - capsnet_fbeta_score: 0.5392 - capsnet_binary_accuracy: 0.6023 - decoder_precision: 0.9665 - decoder_recall: 0.9905 - decoder_fbeta_score: 0.9712 - decoder_binary_accuracy: 0.0172 - val_loss: 1.3562 - val_capsnet_loss: 0.6631 - val_decoder_loss: 0.6931 - val_capsnet_precision: 0.6344 - val_capsnet_recall: 0.3322 - val_capsnet_fbeta_score: 0.5212 - val_capsnet_binary_accuracy: 0.6023 - val_decoder_precision: 0.9591 - val_decoder_recall: 0.9908 - val_decoder_fbeta_score: 0.9652 - val_decoder_binary_accuracy: 0.0178\n",
      "Epoch 3/20\n",
      "2799/2800 [============================>.] - ETA: 0s - loss: 1.3574 - capsnet_loss: 0.6643 - decoder_loss: 0.6931 - capsnet_precision: 0.6022 - capsnet_recall: 0.4494 - capsnet_fbeta_score: 0.5506 - capsnet_binary_accuracy: 0.6077 - decoder_precision: 0.9666 - decoder_recall: 0.9905 - decoder_fbeta_score: 0.9712 - decoder_binary_accuracy: 0.0183Epoch 00002: val_loss improved from 1.35622 to 1.35307, saving model to saved_models/CapsNet.best.from_scratch.hdf5\n",
      "2800/2800 [==============================] - 859s - loss: 1.3574 - capsnet_loss: 0.6643 - decoder_loss: 0.6931 - capsnet_precision: 0.6022 - capsnet_recall: 0.4493 - capsnet_fbeta_score: 0.5506 - capsnet_binary_accuracy: 0.6077 - decoder_precision: 0.9666 - decoder_recall: 0.9905 - decoder_fbeta_score: 0.9712 - decoder_binary_accuracy: 0.0183 - val_loss: 1.3531 - val_capsnet_loss: 0.6600 - val_decoder_loss: 0.6931 - val_capsnet_precision: 0.6306 - val_capsnet_recall: 0.3651 - val_capsnet_fbeta_score: 0.5373 - val_capsnet_binary_accuracy: 0.6079 - val_decoder_precision: 0.9594 - val_decoder_recall: 0.9892 - val_decoder_fbeta_score: 0.9651 - val_decoder_binary_accuracy: 0.0186\n",
      "Epoch 4/20\n",
      "2799/2800 [============================>.] - ETA: 0s - loss: 1.3558 - capsnet_loss: 0.6627 - decoder_loss: 0.6931 - capsnet_precision: 0.6014 - capsnet_recall: 0.4574 - capsnet_fbeta_score: 0.5533 - capsnet_binary_accuracy: 0.6085 - decoder_precision: 0.9669 - decoder_recall: 0.9889 - decoder_fbeta_score: 0.9712 - decoder_binary_accuracy: 0.0189Epoch 00003: val_loss improved from 1.35307 to 1.35017, saving model to saved_models/CapsNet.best.from_scratch.hdf5\n",
      "2800/2800 [==============================] - 859s - loss: 1.3558 - capsnet_loss: 0.6627 - decoder_loss: 0.6931 - capsnet_precision: 0.6014 - capsnet_recall: 0.4573 - capsnet_fbeta_score: 0.5533 - capsnet_binary_accuracy: 0.6085 - decoder_precision: 0.9669 - decoder_recall: 0.9889 - decoder_fbeta_score: 0.9712 - decoder_binary_accuracy: 0.0189 - val_loss: 1.3502 - val_capsnet_loss: 0.6571 - val_decoder_loss: 0.6931 - val_capsnet_precision: 0.6174 - val_capsnet_recall: 0.4616 - val_capsnet_fbeta_score: 0.5684 - val_capsnet_binary_accuracy: 0.6185 - val_decoder_precision: 0.9593 - val_decoder_recall: 0.9899 - val_decoder_fbeta_score: 0.9652 - val_decoder_binary_accuracy: 0.0189\n",
      "Epoch 5/20\n",
      "2799/2800 [============================>.] - ETA: 0s - loss: 1.3551 - capsnet_loss: 0.6620 - decoder_loss: 0.6931 - capsnet_precision: 0.6031 - capsnet_recall: 0.4667 - capsnet_fbeta_score: 0.5585 - capsnet_binary_accuracy: 0.6105 - decoder_precision: 0.9672 - decoder_recall: 0.9888 - decoder_fbeta_score: 0.9714 - decoder_binary_accuracy: 0.0191Epoch 00004: val_loss did not improve\n",
      "2800/2800 [==============================] - 859s - loss: 1.3550 - capsnet_loss: 0.6620 - decoder_loss: 0.6931 - capsnet_precision: 0.6031 - capsnet_recall: 0.4667 - capsnet_fbeta_score: 0.5585 - capsnet_binary_accuracy: 0.6105 - decoder_precision: 0.9672 - decoder_recall: 0.9888 - decoder_fbeta_score: 0.9714 - decoder_binary_accuracy: 0.0191 - val_loss: 1.3520 - val_capsnet_loss: 0.6589 - val_decoder_loss: 0.6931 - val_capsnet_precision: 0.6369 - val_capsnet_recall: 0.3564 - val_capsnet_fbeta_score: 0.5360 - val_capsnet_binary_accuracy: 0.6082 - val_decoder_precision: 0.9595 - val_decoder_recall: 0.9882 - val_decoder_fbeta_score: 0.9650 - val_decoder_binary_accuracy: 0.0193\n",
      "Epoch 6/20\n",
      "2799/2800 [============================>.] - ETA: 0s - loss: 1.3540 - capsnet_loss: 0.6609 - decoder_loss: 0.6931 - capsnet_precision: 0.6024 - capsnet_recall: 0.4714 - capsnet_fbeta_score: 0.5593 - capsnet_binary_accuracy: 0.6112 - decoder_precision: 0.9670 - decoder_recall: 0.9879 - decoder_fbeta_score: 0.9711 - decoder_binary_accuracy: 0.0196Epoch 00005: val_loss improved from 1.35017 to 1.34902, saving model to saved_models/CapsNet.best.from_scratch.hdf5\n",
      "2800/2800 [==============================] - 860s - loss: 1.3540 - capsnet_loss: 0.6609 - decoder_loss: 0.6931 - capsnet_precision: 0.6023 - capsnet_recall: 0.4713 - capsnet_fbeta_score: 0.5592 - capsnet_binary_accuracy: 0.6111 - decoder_precision: 0.9670 - decoder_recall: 0.9879 - decoder_fbeta_score: 0.9711 - decoder_binary_accuracy: 0.0196 - val_loss: 1.3490 - val_capsnet_loss: 0.6559 - val_decoder_loss: 0.6931 - val_capsnet_precision: 0.6237 - val_capsnet_recall: 0.4471 - val_capsnet_fbeta_score: 0.5677 - val_capsnet_binary_accuracy: 0.6201 - val_decoder_precision: 0.9595 - val_decoder_recall: 0.9882 - val_decoder_fbeta_score: 0.9651 - val_decoder_binary_accuracy: 0.0189\n",
      "Epoch 7/20\n",
      "2799/2800 [============================>.] - ETA: 0s - loss: 1.3530 - capsnet_loss: 0.6600 - decoder_loss: 0.6931 - capsnet_precision: 0.6020 - capsnet_recall: 0.4763 - capsnet_fbeta_score: 0.5618 - capsnet_binary_accuracy: 0.6119 - decoder_precision: 0.9668 - decoder_recall: 0.9890 - decoder_fbeta_score: 0.9711 - decoder_binary_accuracy: 0.0198Epoch 00006: val_loss improved from 1.34902 to 1.34873, saving model to saved_models/CapsNet.best.from_scratch.hdf5\n",
      "2800/2800 [==============================] - 857s - loss: 1.3530 - capsnet_loss: 0.6600 - decoder_loss: 0.6931 - capsnet_precision: 0.6020 - capsnet_recall: 0.4763 - capsnet_fbeta_score: 0.5617 - capsnet_binary_accuracy: 0.6119 - decoder_precision: 0.9669 - decoder_recall: 0.9890 - decoder_fbeta_score: 0.9711 - decoder_binary_accuracy: 0.0198 - val_loss: 1.3487 - val_capsnet_loss: 0.6557 - val_decoder_loss: 0.6931 - val_capsnet_precision: 0.6138 - val_capsnet_recall: 0.4916 - val_capsnet_fbeta_score: 0.5761 - val_capsnet_binary_accuracy: 0.6221 - val_decoder_precision: 0.9595 - val_decoder_recall: 0.9906 - val_decoder_fbeta_score: 0.9655 - val_decoder_binary_accuracy: 0.0196\n",
      "Epoch 8/20\n",
      "2799/2800 [============================>.] - ETA: 0s - loss: 1.3518 - capsnet_loss: 0.6588 - decoder_loss: 0.6931 - capsnet_precision: 0.6040 - capsnet_recall: 0.4810 - capsnet_fbeta_score: 0.5648 - capsnet_binary_accuracy: 0.6149 - decoder_precision: 0.9671 - decoder_recall: 0.9908 - decoder_fbeta_score: 0.9717 - decoder_binary_accuracy: 0.0202Epoch 00007: val_loss improved from 1.34873 to 1.34814, saving model to saved_models/CapsNet.best.from_scratch.hdf5\n",
      "2800/2800 [==============================] - 855s - loss: 1.3518 - capsnet_loss: 0.6588 - decoder_loss: 0.6931 - capsnet_precision: 0.6040 - capsnet_recall: 0.4811 - capsnet_fbeta_score: 0.5648 - capsnet_binary_accuracy: 0.6149 - decoder_precision: 0.9671 - decoder_recall: 0.9908 - decoder_fbeta_score: 0.9717 - decoder_binary_accuracy: 0.0202 - val_loss: 1.3481 - val_capsnet_loss: 0.6551 - val_decoder_loss: 0.6930 - val_capsnet_precision: 0.6265 - val_capsnet_recall: 0.4312 - val_capsnet_fbeta_score: 0.5640 - val_capsnet_binary_accuracy: 0.6190 - val_decoder_precision: 0.9595 - val_decoder_recall: 0.9918 - val_decoder_fbeta_score: 0.9657 - val_decoder_binary_accuracy: 0.0203\n",
      "Epoch 9/20\n",
      "2799/2800 [============================>.] - ETA: 0s - loss: 1.3524 - capsnet_loss: 0.6593 - decoder_loss: 0.6931 - capsnet_precision: 0.6034 - capsnet_recall: 0.4811 - capsnet_fbeta_score: 0.5647 - capsnet_binary_accuracy: 0.6145 - decoder_precision: 0.9670 - decoder_recall: 0.9917 - decoder_fbeta_score: 0.9718 - decoder_binary_accuracy: 0.0204Epoch 00008: val_loss improved from 1.34814 to 1.34727, saving model to saved_models/CapsNet.best.from_scratch.hdf5\n",
      "2800/2800 [==============================] - 857s - loss: 1.3523 - capsnet_loss: 0.6593 - decoder_loss: 0.6931 - capsnet_precision: 0.6035 - capsnet_recall: 0.4811 - capsnet_fbeta_score: 0.5647 - capsnet_binary_accuracy: 0.6145 - decoder_precision: 0.9670 - decoder_recall: 0.9917 - decoder_fbeta_score: 0.9718 - decoder_binary_accuracy: 0.0204 - val_loss: 1.3473 - val_capsnet_loss: 0.6542 - val_decoder_loss: 0.6930 - val_capsnet_precision: 0.6210 - val_capsnet_recall: 0.4629 - val_capsnet_fbeta_score: 0.5720 - val_capsnet_binary_accuracy: 0.6208 - val_decoder_precision: 0.9595 - val_decoder_recall: 0.9917 - val_decoder_fbeta_score: 0.9657 - val_decoder_binary_accuracy: 0.0210\n",
      "Epoch 10/20\n",
      "2799/2800 [============================>.] - ETA: 0s - loss: 1.3516 - capsnet_loss: 0.6586 - decoder_loss: 0.6930 - capsnet_precision: 0.6044 - capsnet_recall: 0.4831 - capsnet_fbeta_score: 0.5662 - capsnet_binary_accuracy: 0.6150 - decoder_precision: 0.9672 - decoder_recall: 0.9924 - decoder_fbeta_score: 0.9721 - decoder_binary_accuracy: 0.0208Epoch 00009: val_loss improved from 1.34727 to 1.34695, saving model to saved_models/CapsNet.best.from_scratch.hdf5\n",
      "2800/2800 [==============================] - 857s - loss: 1.3516 - capsnet_loss: 0.6586 - decoder_loss: 0.6930 - capsnet_precision: 0.6044 - capsnet_recall: 0.4831 - capsnet_fbeta_score: 0.5662 - capsnet_binary_accuracy: 0.6150 - decoder_precision: 0.9672 - decoder_recall: 0.9924 - decoder_fbeta_score: 0.9721 - decoder_binary_accuracy: 0.0208 - val_loss: 1.3469 - val_capsnet_loss: 0.6539 - val_decoder_loss: 0.6930 - val_capsnet_precision: 0.6166 - val_capsnet_recall: 0.4883 - val_capsnet_fbeta_score: 0.5767 - val_capsnet_binary_accuracy: 0.6228 - val_decoder_precision: 0.9594 - val_decoder_recall: 0.9930 - val_decoder_fbeta_score: 0.9659 - val_decoder_binary_accuracy: 0.0215\n",
      "Epoch 11/20\n",
      "2799/2800 [============================>.] - ETA: 0s - loss: 1.3511 - capsnet_loss: 0.6580 - decoder_loss: 0.6930 - capsnet_precision: 0.6026 - capsnet_recall: 0.4840 - capsnet_fbeta_score: 0.5657 - capsnet_binary_accuracy: 0.6153 - decoder_precision: 0.9666 - decoder_recall: 0.9933 - decoder_fbeta_score: 0.9718 - decoder_binary_accuracy: 0.0210Epoch 00010: val_loss did not improve\n",
      "2800/2800 [==============================] - 856s - loss: 1.3510 - capsnet_loss: 0.6580 - decoder_loss: 0.6930 - capsnet_precision: 0.6027 - capsnet_recall: 0.4840 - capsnet_fbeta_score: 0.5657 - capsnet_binary_accuracy: 0.6153 - decoder_precision: 0.9666 - decoder_recall: 0.9933 - decoder_fbeta_score: 0.9718 - decoder_binary_accuracy: 0.0210 - val_loss: 1.3480 - val_capsnet_loss: 0.6550 - val_decoder_loss: 0.6930 - val_capsnet_precision: 0.6363 - val_capsnet_recall: 0.4056 - val_capsnet_fbeta_score: 0.5596 - val_capsnet_binary_accuracy: 0.6187 - val_decoder_precision: 0.9595 - val_decoder_recall: 0.9931 - val_decoder_fbeta_score: 0.9659 - val_decoder_binary_accuracy: 0.0223\n",
      "Epoch 12/20\n",
      "2799/2800 [============================>.] - ETA: 0s - loss: 1.3512 - capsnet_loss: 0.6582 - decoder_loss: 0.6930 - capsnet_precision: 0.6049 - capsnet_recall: 0.4851 - capsnet_fbeta_score: 0.5674 - capsnet_binary_accuracy: 0.6156 - decoder_precision: 0.9668 - decoder_recall: 0.9941 - decoder_fbeta_score: 0.9721 - decoder_binary_accuracy: 0.0211Epoch 00011: val_loss did not improve\n",
      "2800/2800 [==============================] - 857s - loss: 1.3512 - capsnet_loss: 0.6582 - decoder_loss: 0.6930 - capsnet_precision: 0.6048 - capsnet_recall: 0.4851 - capsnet_fbeta_score: 0.5674 - capsnet_binary_accuracy: 0.6156 - decoder_precision: 0.9668 - decoder_recall: 0.9941 - decoder_fbeta_score: 0.9721 - decoder_binary_accuracy: 0.0211 - val_loss: 1.3470 - val_capsnet_loss: 0.6540 - val_decoder_loss: 0.6930 - val_capsnet_precision: 0.6281 - val_capsnet_recall: 0.4259 - val_capsnet_fbeta_score: 0.5625 - val_capsnet_binary_accuracy: 0.6184 - val_decoder_precision: 0.9595 - val_decoder_recall: 0.9936 - val_decoder_fbeta_score: 0.9660 - val_decoder_binary_accuracy: 0.0222\n",
      "Epoch 13/20\n",
      "2799/2800 [============================>.] - ETA: 0s - loss: 1.3508 - capsnet_loss: 0.6577 - decoder_loss: 0.6930 - capsnet_precision: 0.6064 - capsnet_recall: 0.4866 - capsnet_fbeta_score: 0.5688 - capsnet_binary_accuracy: 0.6168 - decoder_precision: 0.9669 - decoder_recall: 0.9941 - decoder_fbeta_score: 0.9722 - decoder_binary_accuracy: 0.0215Epoch 00012: val_loss improved from 1.34695 to 1.34649, saving model to saved_models/CapsNet.best.from_scratch.hdf5\n",
      "2800/2800 [==============================] - 857s - loss: 1.3508 - capsnet_loss: 0.6577 - decoder_loss: 0.6930 - capsnet_precision: 0.6063 - capsnet_recall: 0.4867 - capsnet_fbeta_score: 0.5687 - capsnet_binary_accuracy: 0.6168 - decoder_precision: 0.9669 - decoder_recall: 0.9941 - decoder_fbeta_score: 0.9722 - decoder_binary_accuracy: 0.0215 - val_loss: 1.3465 - val_capsnet_loss: 0.6535 - val_decoder_loss: 0.6930 - val_capsnet_precision: 0.6277 - val_capsnet_recall: 0.4492 - val_capsnet_fbeta_score: 0.5710 - val_capsnet_binary_accuracy: 0.6217 - val_decoder_precision: 0.9594 - val_decoder_recall: 0.9937 - val_decoder_fbeta_score: 0.9660 - val_decoder_binary_accuracy: 0.0224\n",
      "Epoch 14/20\n",
      "2799/2800 [============================>.] - ETA: 0s - loss: 1.3509 - capsnet_loss: 0.6579 - decoder_loss: 0.6930 - capsnet_precision: 0.6036 - capsnet_recall: 0.4852 - capsnet_fbeta_score: 0.5669 - capsnet_binary_accuracy: 0.6155 - decoder_precision: 0.9668 - decoder_recall: 0.9945 - decoder_fbeta_score: 0.9721 - decoder_binary_accuracy: 0.0216Epoch 00013: val_loss did not improve\n",
      "2800/2800 [==============================] - 855s - loss: 1.3509 - capsnet_loss: 0.6579 - decoder_loss: 0.6930 - capsnet_precision: 0.6036 - capsnet_recall: 0.4853 - capsnet_fbeta_score: 0.5670 - capsnet_binary_accuracy: 0.6156 - decoder_precision: 0.9668 - decoder_recall: 0.9945 - decoder_fbeta_score: 0.9721 - decoder_binary_accuracy: 0.0216 - val_loss: 1.3488 - val_capsnet_loss: 0.6558 - val_decoder_loss: 0.6930 - val_capsnet_precision: 0.6471 - val_capsnet_recall: 0.3819 - val_capsnet_fbeta_score: 0.5552 - val_capsnet_binary_accuracy: 0.6176 - val_decoder_precision: 0.9594 - val_decoder_recall: 0.9947 - val_decoder_fbeta_score: 0.9662 - val_decoder_binary_accuracy: 0.0230\n",
      "Epoch 15/20\n"
     ]
    },
    {
     "name": "stdout",
     "output_type": "stream",
     "text": [
      "2799/2800 [============================>.] - ETA: 0s - loss: 1.3497 - capsnet_loss: 0.6567 - decoder_loss: 0.6930 - capsnet_precision: 0.6057 - capsnet_recall: 0.4853 - capsnet_fbeta_score: 0.5678 - capsnet_binary_accuracy: 0.6160 - decoder_precision: 0.9666 - decoder_recall: 0.9956 - decoder_fbeta_score: 0.9722 - decoder_binary_accuracy: 0.0219Epoch 00014: val_loss improved from 1.34649 to 1.34594, saving model to saved_models/CapsNet.best.from_scratch.hdf5\n",
      "2800/2800 [==============================] - 854s - loss: 1.3497 - capsnet_loss: 0.6566 - decoder_loss: 0.6930 - capsnet_precision: 0.6056 - capsnet_recall: 0.4854 - capsnet_fbeta_score: 0.5678 - capsnet_binary_accuracy: 0.6161 - decoder_precision: 0.9666 - decoder_recall: 0.9956 - decoder_fbeta_score: 0.9722 - decoder_binary_accuracy: 0.0219 - val_loss: 1.3459 - val_capsnet_loss: 0.6529 - val_decoder_loss: 0.6930 - val_capsnet_precision: 0.6253 - val_capsnet_recall: 0.4580 - val_capsnet_fbeta_score: 0.5727 - val_capsnet_binary_accuracy: 0.6220 - val_decoder_precision: 0.9594 - val_decoder_recall: 0.9962 - val_decoder_fbeta_score: 0.9665 - val_decoder_binary_accuracy: 0.0223\n",
      "Epoch 16/20\n",
      "2799/2800 [============================>.] - ETA: 0s - loss: 1.3495 - capsnet_loss: 0.6565 - decoder_loss: 0.6930 - capsnet_precision: 0.6059 - capsnet_recall: 0.4849 - capsnet_fbeta_score: 0.5693 - capsnet_binary_accuracy: 0.6167 - decoder_precision: 0.9669 - decoder_recall: 0.9962 - decoder_fbeta_score: 0.9725 - decoder_binary_accuracy: 0.0219Epoch 00015: val_loss improved from 1.34594 to 1.34578, saving model to saved_models/CapsNet.best.from_scratch.hdf5\n",
      "2800/2800 [==============================] - 854s - loss: 1.3495 - capsnet_loss: 0.6565 - decoder_loss: 0.6930 - capsnet_precision: 0.6059 - capsnet_recall: 0.4849 - capsnet_fbeta_score: 0.5692 - capsnet_binary_accuracy: 0.6167 - decoder_precision: 0.9669 - decoder_recall: 0.9962 - decoder_fbeta_score: 0.9725 - decoder_binary_accuracy: 0.0219 - val_loss: 1.3458 - val_capsnet_loss: 0.6528 - val_decoder_loss: 0.6930 - val_capsnet_precision: 0.6254 - val_capsnet_recall: 0.4622 - val_capsnet_fbeta_score: 0.5743 - val_capsnet_binary_accuracy: 0.6229 - val_decoder_precision: 0.9594 - val_decoder_recall: 0.9966 - val_decoder_fbeta_score: 0.9665 - val_decoder_binary_accuracy: 0.0229\n",
      "Epoch 17/20\n",
      "2799/2800 [============================>.] - ETA: 0s - loss: 1.3496 - capsnet_loss: 0.6566 - decoder_loss: 0.6930 - capsnet_precision: 0.6075 - capsnet_recall: 0.4893 - capsnet_fbeta_score: 0.5710 - capsnet_binary_accuracy: 0.6179 - decoder_precision: 0.9669 - decoder_recall: 0.9964 - decoder_fbeta_score: 0.9726 - decoder_binary_accuracy: 0.0220Epoch 00016: val_loss did not improve\n",
      "2800/2800 [==============================] - 854s - loss: 1.3497 - capsnet_loss: 0.6566 - decoder_loss: 0.6930 - capsnet_precision: 0.6075 - capsnet_recall: 0.4893 - capsnet_fbeta_score: 0.5710 - capsnet_binary_accuracy: 0.6179 - decoder_precision: 0.9669 - decoder_recall: 0.9964 - decoder_fbeta_score: 0.9726 - decoder_binary_accuracy: 0.0220 - val_loss: 1.3471 - val_capsnet_loss: 0.6541 - val_decoder_loss: 0.6930 - val_capsnet_precision: 0.6391 - val_capsnet_recall: 0.4042 - val_capsnet_fbeta_score: 0.5605 - val_capsnet_binary_accuracy: 0.6188 - val_decoder_precision: 0.9594 - val_decoder_recall: 0.9971 - val_decoder_fbeta_score: 0.9666 - val_decoder_binary_accuracy: 0.0234\n",
      "Epoch 18/20\n",
      "2799/2800 [============================>.] - ETA: 0s - loss: 1.3492 - capsnet_loss: 0.6562 - decoder_loss: 0.6930 - capsnet_precision: 0.6089 - capsnet_recall: 0.4913 - capsnet_fbeta_score: 0.5725 - capsnet_binary_accuracy: 0.6188 - decoder_precision: 0.9671 - decoder_recall: 0.9966 - decoder_fbeta_score: 0.9728 - decoder_binary_accuracy: 0.0222Epoch 00017: val_loss improved from 1.34578 to 1.34566, saving model to saved_models/CapsNet.best.from_scratch.hdf5\n",
      "2800/2800 [==============================] - 856s - loss: 1.3492 - capsnet_loss: 0.6562 - decoder_loss: 0.6930 - capsnet_precision: 0.6088 - capsnet_recall: 0.4913 - capsnet_fbeta_score: 0.5725 - capsnet_binary_accuracy: 0.6187 - decoder_precision: 0.9671 - decoder_recall: 0.9966 - decoder_fbeta_score: 0.9728 - decoder_binary_accuracy: 0.0222 - val_loss: 1.3457 - val_capsnet_loss: 0.6527 - val_decoder_loss: 0.6930 - val_capsnet_precision: 0.6247 - val_capsnet_recall: 0.4630 - val_capsnet_fbeta_score: 0.5741 - val_capsnet_binary_accuracy: 0.6229 - val_decoder_precision: 0.9594 - val_decoder_recall: 0.9969 - val_decoder_fbeta_score: 0.9666 - val_decoder_binary_accuracy: 0.0225\n",
      "Epoch 19/20\n",
      "2799/2800 [============================>.] - ETA: 0s - loss: 1.3495 - capsnet_loss: 0.6565 - decoder_loss: 0.6930 - capsnet_precision: 0.6074 - capsnet_recall: 0.4896 - capsnet_fbeta_score: 0.5709 - capsnet_binary_accuracy: 0.6186 - decoder_precision: 0.9669 - decoder_recall: 0.9964 - decoder_fbeta_score: 0.9726 - decoder_binary_accuracy: 0.0223Epoch 00018: val_loss did not improve\n",
      "2800/2800 [==============================] - 857s - loss: 1.3495 - capsnet_loss: 0.6565 - decoder_loss: 0.6930 - capsnet_precision: 0.6074 - capsnet_recall: 0.4896 - capsnet_fbeta_score: 0.5709 - capsnet_binary_accuracy: 0.6186 - decoder_precision: 0.9669 - decoder_recall: 0.9964 - decoder_fbeta_score: 0.9726 - decoder_binary_accuracy: 0.0223 - val_loss: 1.3457 - val_capsnet_loss: 0.6527 - val_decoder_loss: 0.6930 - val_capsnet_precision: 0.6315 - val_capsnet_recall: 0.4409 - val_capsnet_fbeta_score: 0.5705 - val_capsnet_binary_accuracy: 0.6225 - val_decoder_precision: 0.9594 - val_decoder_recall: 0.9968 - val_decoder_fbeta_score: 0.9666 - val_decoder_binary_accuracy: 0.0238\n",
      "Epoch 20/20\n",
      "2799/2800 [============================>.] - ETA: 0s - loss: 1.3491 - capsnet_loss: 0.6561 - decoder_loss: 0.6930 - capsnet_precision: 0.6060 - capsnet_recall: 0.4901 - capsnet_fbeta_score: 0.5706 - capsnet_binary_accuracy: 0.6184 - decoder_precision: 0.9669 - decoder_recall: 0.9969 - decoder_fbeta_score: 0.9727 - decoder_binary_accuracy: 0.0225Epoch 00019: val_loss did not improve\n",
      "2800/2800 [==============================] - 858s - loss: 1.3491 - capsnet_loss: 0.6561 - decoder_loss: 0.6930 - capsnet_precision: 0.6061 - capsnet_recall: 0.4901 - capsnet_fbeta_score: 0.5707 - capsnet_binary_accuracy: 0.6185 - decoder_precision: 0.9669 - decoder_recall: 0.9969 - decoder_fbeta_score: 0.9727 - decoder_binary_accuracy: 0.0225 - val_loss: 1.3460 - val_capsnet_loss: 0.6530 - val_decoder_loss: 0.6930 - val_capsnet_precision: 0.6350 - val_capsnet_recall: 0.4251 - val_capsnet_fbeta_score: 0.5667 - val_capsnet_binary_accuracy: 0.6217 - val_decoder_precision: 0.9594 - val_decoder_recall: 0.9970 - val_decoder_fbeta_score: 0.9666 - val_decoder_binary_accuracy: 0.0236\n"
     ]
    },
    {
     "data": {
      "image/png": "[encoded data removed]",
      "text/plain": [
       "<matplotlib.figure.Figure at 0x7f20aedef358>"
      ]
     },
     "metadata": {},
     "output_type": "display_data"
    },
    {
     "data": {
      "text/plain": [
       "<keras.engine.training.Model at 0x7f20afd2c630>"
      ]
     },
     "execution_count": 7,
     "metadata": {},
     "output_type": "execute_result"
    }
   ],
   "source": [
    "train(model=model, data=((train_tensors, train_labels), (valid_tensors, valid_labels)), \n",
    "      lr=0.001, lr_decay=0.9, lam_recon=0.392, batch_size=32, shift_fraction=0.1, epochs=20)"
   ]
  },
  {
   "cell_type": "markdown",
   "metadata": {},
   "source": [
    "# Testing"
   ]
  },
  {
   "cell_type": "code",
   "execution_count": 8,
   "metadata": {
    "collapsed": true
   },
   "outputs": [],
   "source": [
    "model.load_weights('saved_models/CapsNet.best.from_scratch.hdf5')\n",
    "prediction = eval_model.predict(test_tensors)"
   ]
  },
  {
   "cell_type": "code",
   "execution_count": 11,
   "metadata": {},
   "outputs": [
    {
     "name": "stdout",
     "output_type": "stream",
     "text": [
      "Precision: 0.625410 %\n",
      "Recall: 0.473513 %\n",
      "Fscore: 0.587705 %\n"
     ]
    }
   ],
   "source": [
    "threshold = 0.5\n",
    "beta = 0.5\n",
    "\n",
    "pre = K.eval(precision_threshold(threshold = threshold)(K.variable(value=test_labels),\n",
    "                                   K.variable(value=prediction[0])))\n",
    "rec = K.eval(recall_threshold(threshold = threshold)(K.variable(value=test_labels),\n",
    "                                   K.variable(value=prediction[0])))\n",
    "fsc = K.eval(fbeta_score_threshold(beta = beta, threshold = threshold)(K.variable(value=test_labels),\n",
    "                                   K.variable(value=prediction[0])))\n",
    "\n",
    "print (\"Precision: %f %%\\nRecall: %f %%\\nFscore: %f %%\"% (pre, rec, fsc))"
   ]
  },
  {
   "cell_type": "code",
   "execution_count": 12,
   "metadata": {},
   "outputs": [
    {
     "data": {
      "text/plain": [
       "0.62526542"
      ]
     },
     "execution_count": 12,
     "metadata": {},
     "output_type": "execute_result"
    }
   ],
   "source": [
    "K.eval(binary_accuracy(K.variable(value=test_labels),\n",
    "                                   K.variable(value=prediction[0])))"
   ]
  },
  {
   "cell_type": "code",
   "execution_count": null,
   "metadata": {
    "collapsed": true
   },
   "outputs": [],
   "source": []
  }
 ],
 "metadata": {
  "kernelspec": {
   "display_name": "Python 3",
   "language": "python",
   "name": "python3"
  },
  "language_info": {
   "codemirror_mode": {
    "name": "ipython",
    "version": 3
   },
   "file_extension": ".py",
   "mimetype": "text/x-python",
   "name": "python",
   "nbconvert_exporter": "python",
   "pygments_lexer": "ipython3",
   "version": "3.5.2"
  }
 },
 "nbformat": 4,
 "nbformat_minor": 2
}
