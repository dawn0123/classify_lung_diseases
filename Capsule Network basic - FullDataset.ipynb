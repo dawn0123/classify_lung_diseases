{
 "cells": [
  {
   "cell_type": "markdown",
   "metadata": {},
   "source": [
    "# Data preprocessing"
   ]
  },
  {
   "cell_type": "code",
   "execution_count": 1,
   "metadata": {
    "collapsed": true
   },
   "outputs": [],
   "source": [
    "import numpy as np\n",
    "import pandas as pd\n",
    "from glob import glob\n",
    "from tqdm import tqdm\n",
    "from sklearn.utils import shuffle\n",
    "\n",
    "df = pd.read_csv('sample/Data_Entry_2017.csv')\n",
    "\n",
    "diseases = ['Cardiomegaly','Emphysema','Effusion','Hernia','Nodule','Pneumothorax','Atelectasis','Pleural_Thickening','Mass','Edema','Consolidation','Infiltration','Fibrosis','Pneumonia']\n",
    "#Number diseases\n",
    "for disease in diseases :\n",
    "    df[disease] = df['Finding Labels'].apply(lambda x: 1 if disease in x else 0)\n",
    "\n",
    "# #test to perfect\n",
    "# df = df.drop(df[df['Emphysema']==0][:-127].index.values)\n",
    "    \n",
    "#remove Y after age\n",
    "df['Age']=df['Patient Age'].apply(lambda x: x[:-1]).astype(int)\n",
    "df['Age Type']=df['Patient Age'].apply(lambda x: x[-1:])\n",
    "df.loc[df['Age Type']=='M',['Age']] = df[df['Age Type']=='M']['Age'].apply(lambda x: round(x/12.)).astype(int)\n",
    "df.loc[df['Age Type']=='D',['Age']] = df[df['Age Type']=='D']['Age'].apply(lambda x: round(x/365.)).astype(int)\n",
    "# remove outliers\n",
    "df = df.drop(df['Age'].sort_values(ascending=False).head(16).index)\n",
    "df['Age'] = df['Age']/df['Age'].max()\n",
    "\n",
    "#one hot data\n",
    "# df = df.drop(df.index[4242])\n",
    "df = df.join(pd.get_dummies(df['Patient Gender']))\n",
    "df = df.join(pd.get_dummies(df['View Position']))\n",
    "\n",
    "#random samples\n",
    "df = shuffle(df)\n",
    "\n",
    "#get other data\n",
    "data = df[['Age', 'F', 'M', 'AP', 'PA']]\n",
    "data = np.array(data)\n",
    "\n",
    "labels = df[diseases].as_matrix()\n",
    "files_list = ('sample/images/' + df['Image Index']).tolist()\n",
    "\n",
    "# #test to perfect\n",
    "# labelB = df['Emphysema'].tolist()\n",
    "\n",
    "labelB = (df[diseases].sum(axis=1)>0).tolist()\n",
    "labelB = np.array(labelB, dtype=int)"
   ]
  },
  {
   "cell_type": "code",
   "execution_count": 2,
   "metadata": {},
   "outputs": [
    {
     "name": "stderr",
     "output_type": "stream",
     "text": [
      "Using TensorFlow backend.\n",
      "/home/aind2/anaconda3/lib/python3.6/importlib/_bootstrap.py:219: RuntimeWarning: compiletime version 3.5 of module 'tensorflow.python.framework.fast_tensor_util' does not match runtime version 3.6\n",
      "  return f(*args, **kwds)\n",
      "100%|██████████| 89600/89600 [22:02<00:00, 67.76it/s]\n",
      "100%|██████████| 11200/11200 [02:41<00:00, 69.38it/s]\n",
      "100%|██████████| 11304/11304 [02:43<00:00, 69.02it/s]\n"
     ]
    }
   ],
   "source": [
    "from keras.preprocessing import image                  \n",
    "from tqdm import tqdm\n",
    "\n",
    "def path_to_tensor(img_path, shape):\n",
    "    # loads RGB image as PIL.Image.Image type\n",
    "    img = image.load_img(img_path, grayscale=True, target_size=shape)\n",
    "    # convert PIL.Image.Image type to 3D tensor with shape (224, 224, 1)\n",
    "    x = image.img_to_array(img)/255\n",
    "    # convert 3D tensor to 4D tensor with shape (1, 224, 224, 1) and return 4D tensor\n",
    "    return np.expand_dims(x, axis=0)\n",
    "\n",
    "def paths_to_tensor(img_paths, shape):\n",
    "    list_of_tensors = [path_to_tensor(img_path, shape) for img_path in tqdm(img_paths)]\n",
    "    return np.vstack(list_of_tensors)\n",
    "\n",
    "train_labels = labelB[:89600][:, np.newaxis]\n",
    "valid_labels = labelB[89600:100800][:, np.newaxis]\n",
    "test_labels = labelB[100800:][:, np.newaxis]\n",
    "\n",
    "train_data = data[:89600]\n",
    "valid_data = data[89600:100800]\n",
    "test_data = data[100800:]\n",
    "\n",
    "img_shape = (64, 64)\n",
    "train_tensors = paths_to_tensor(files_list[:89600], shape = img_shape)\n",
    "valid_tensors = paths_to_tensor(files_list[89600:100800], shape = img_shape)\n",
    "test_tensors = paths_to_tensor(files_list[100800:], shape = img_shape)"
   ]
  },
  {
   "cell_type": "markdown",
   "metadata": {},
   "source": [
    "Convert label from 1D to 2D"
   ]
  },
  {
   "cell_type": "code",
   "execution_count": 3,
   "metadata": {
    "collapsed": true
   },
   "outputs": [],
   "source": [
    "def onhotLabels(label):\n",
    "    from sklearn.preprocessing import OneHotEncoder\n",
    "    enc = OneHotEncoder()\n",
    "    enc.fit(label)\n",
    "    return enc.transform(label).toarray()\n",
    "\n",
    "train_labels = onhotLabels(train_labels)\n",
    "valid_labels = onhotLabels(valid_labels)\n",
    "test_labels = onhotLabels(test_labels)"
   ]
  },
  {
   "cell_type": "markdown",
   "metadata": {},
   "source": [
    "# CapsNet model"
   ]
  },
  {
   "cell_type": "code",
   "execution_count": 4,
   "metadata": {
    "scrolled": true
   },
   "outputs": [
    {
     "name": "stdout",
     "output_type": "stream",
     "text": [
      "____________________________________________________________________________________________________\n",
      "Layer (type)                     Output Shape          Param #     Connected to                     \n",
      "====================================================================================================\n",
      "input_1 (InputLayer)             (None, 64, 64, 1)     0                                            \n",
      "____________________________________________________________________________________________________\n",
      "conv1 (Conv2D)                   (None, 56, 56, 256)   20992       input_1[0][0]                    \n",
      "____________________________________________________________________________________________________\n",
      "primarycap_conv2d (Conv2D)       (None, 24, 24, 256)   5308672     conv1[0][0]                      \n",
      "____________________________________________________________________________________________________\n",
      "primarycap_reshape (Reshape)     (None, 18432, 8)      0           primarycap_conv2d[0][0]          \n",
      "____________________________________________________________________________________________________\n",
      "primarycap_squash (Lambda)       (None, 18432, 8)      0           primarycap_reshape[0][0]         \n",
      "____________________________________________________________________________________________________\n",
      "digitcaps (CapsuleLayer)         (None, 2, 16)         4718592     primarycap_squash[0][0]          \n",
      "____________________________________________________________________________________________________\n",
      "input_2 (InputLayer)             (None, 2)             0                                            \n",
      "____________________________________________________________________________________________________\n",
      "mask_1 (Mask)                    (None, 32)            0           digitcaps[0][0]                  \n",
      "                                                                   input_2[0][0]                    \n",
      "____________________________________________________________________________________________________\n",
      "capsnet (Length)                 (None, 2)             0           digitcaps[0][0]                  \n",
      "____________________________________________________________________________________________________\n",
      "decoder (Sequential)             (None, 64, 64, 1)     4740608     mask_1[0][0]                     \n",
      "====================================================================================================\n",
      "Total params: 14,788,864\n",
      "Trainable params: 14,788,864\n",
      "Non-trainable params: 0\n",
      "____________________________________________________________________________________________________\n"
     ]
    }
   ],
   "source": [
    "import os\n",
    "import argparse\n",
    "from keras.preprocessing.image import ImageDataGenerator\n",
    "from keras import callbacks\n",
    "\n",
    "import numpy as np\n",
    "from keras import layers, models, optimizers\n",
    "from keras import backend as K\n",
    "import matplotlib.pyplot as plt\n",
    "from PIL import Image\n",
    "from capsulelayers import CapsuleLayer, PrimaryCap, Length, Mask\n",
    "\n",
    "def CapsNet(input_shape, n_class, routings):\n",
    "    \"\"\"\n",
    "    A Capsule Network on MNIST.\n",
    "    :param input_shape: data shape, 3d, [width, height, channels]\n",
    "    :param n_class: number of classes\n",
    "    :param routings: number of routing iterations\n",
    "    :return: Two Keras Models, the first one used for training, and the second one for evaluation.\n",
    "            `eval_model` can also be used for training.\n",
    "    \"\"\"\n",
    "    x = layers.Input(shape=input_shape)\n",
    "\n",
    "    # Layer 1: Just a conventional Conv2D layer\n",
    "    conv1 = layers.Conv2D(filters=256, kernel_size=9, strides=1, padding='valid', activation='relu', name='conv1')(x)\n",
    "\n",
    "    # Layer 2: Conv2D layer with `squash` activation, then reshape to [None, num_capsule, dim_capsule]\n",
    "    primarycaps = PrimaryCap(conv1, dim_capsule=8, n_channels=32, kernel_size=9, strides=2, padding='valid')\n",
    "\n",
    "    # Layer 3: Capsule layer. Routing algorithm works here.\n",
    "    digitcaps = CapsuleLayer(num_capsule=n_class, dim_capsule=16, routings=routings,\n",
    "                             name='digitcaps')(primarycaps)\n",
    "\n",
    "    # Layer 4: This is an auxiliary layer to replace each capsule with its length. Just to match the true label's shape.\n",
    "    # If using tensorflow, this will not be necessary. :)\n",
    "    out_caps = Length(name='capsnet')(digitcaps)\n",
    "\n",
    "    # Decoder network.\n",
    "    y = layers.Input(shape=(n_class,))\n",
    "    masked_by_y = Mask()([digitcaps, y])  # The true label is used to mask the output of capsule layer. For training\n",
    "    masked = Mask()(digitcaps)  # Mask using the capsule with maximal length. For prediction\n",
    "\n",
    "    # Shared Decoder model in training and prediction\n",
    "    decoder = models.Sequential(name='decoder')\n",
    "    decoder.add(layers.Dense(512, activation='relu', input_dim=16*n_class))\n",
    "    decoder.add(layers.Dense(1024, activation='relu'))\n",
    "    decoder.add(layers.Dense(np.prod(input_shape), activation='sigmoid'))\n",
    "    decoder.add(layers.Reshape(target_shape=input_shape, name='out_recon'))\n",
    "\n",
    "    # Models for training and evaluation (prediction)\n",
    "    train_model = models.Model([x, y], [out_caps, decoder(masked_by_y)])\n",
    "    eval_model = models.Model(x, [out_caps, decoder(masked)])\n",
    "\n",
    "    # manipulate model\n",
    "    noise = layers.Input(shape=(n_class, 16))\n",
    "    noised_digitcaps = layers.Add()([digitcaps, noise])\n",
    "    masked_noised_y = Mask()([noised_digitcaps, y])\n",
    "    manipulate_model = models.Model([x, y, noise], decoder(masked_noised_y))\n",
    "    return train_model, eval_model, manipulate_model\n",
    "\n",
    "model, eval_model, manipulate_model = CapsNet(input_shape=train_tensors.shape[1:],\n",
    "                                                  n_class=len(np.unique(train_labels)),\n",
    "                                                  routings=4)\n",
    "\n",
    "model.summary()"
   ]
  },
  {
   "cell_type": "code",
   "execution_count": 5,
   "metadata": {
    "collapsed": true
   },
   "outputs": [],
   "source": [
    "from keras import backend as K\n",
    "\n",
    "def binary_accuracy(y_true, y_pred):\n",
    "    y_true, y_pred = K.cast(K.argmax(y_true, axis=1), K.floatx()), K.cast(K.argmax(y_pred, axis=1), K.floatx())\n",
    "    return K.mean(K.equal(y_true, K.round(y_pred)))\n",
    "\n",
    "def precision_threshold(threshold = 0.5):\n",
    "    def precision(y_true, y_pred):\n",
    "        y_true, y_pred = K.cast(K.argmax(y_true, axis=1), K.floatx()), K.cast(K.argmax(y_pred, axis=1), K.floatx())\n",
    "        threshold_value = threshold\n",
    "        y_pred = K.cast(K.greater(K.clip(y_pred, 0, 1), threshold_value), K.floatx())\n",
    "        true_positives = K.round(K.sum(K.clip(y_true * y_pred, 0, 1)))\n",
    "        predicted_positives = K.sum(y_pred)\n",
    "        precision_ratio = true_positives / (predicted_positives + K.epsilon())\n",
    "        return precision_ratio\n",
    "    return precision\n",
    "\n",
    "def recall_threshold(threshold = 0.5):\n",
    "    def recall(y_true, y_pred):\n",
    "        y_true, y_pred = K.cast(K.argmax(y_true, axis=1), K.floatx()), K.cast(K.argmax(y_pred, axis=1), K.floatx())\n",
    "        threshold_value = threshold\n",
    "        y_pred = K.cast(K.greater(K.clip(y_pred, 0, 1), threshold_value), K.floatx())\n",
    "        true_positives = K.round(K.sum(K.clip(y_true * y_pred, 0, 1)))\n",
    "        possible_positives = K.sum(K.clip(y_true, 0, 1))\n",
    "        recall_ratio = true_positives / (possible_positives + K.epsilon())\n",
    "        return recall_ratio\n",
    "    return recall\n",
    "\n",
    "def fbeta_score_threshold(beta = 1, threshold = 0.5):\n",
    "    def fbeta_score(y_true, y_pred):\n",
    "        threshold_value = threshold\n",
    "        beta_value = beta\n",
    "        p = precision_threshold(threshold_value)(y_true, y_pred)\n",
    "        r = recall_threshold(threshold_value)(y_true, y_pred)\n",
    "        bb = beta_value ** 2\n",
    "        fbeta_score = (1 + bb) * (p * r) / (bb * p + r + K.epsilon())\n",
    "        return fbeta_score\n",
    "    return fbeta_score"
   ]
  },
  {
   "cell_type": "code",
   "execution_count": 6,
   "metadata": {
    "collapsed": true
   },
   "outputs": [],
   "source": [
    "def margin_loss(y_true, y_pred):\n",
    "    \"\"\"\n",
    "    Margin loss for Eq.(4). When y_true[i, :] contains not just one `1`, this loss should work too. Not test it.\n",
    "    :param y_true: [None, n_classes]\n",
    "    :param y_pred: [None, num_capsule]\n",
    "    :return: a scalar loss value.\n",
    "    \"\"\"\n",
    "    L = y_true * K.square(K.maximum(0., 0.9 - y_pred)) + \\\n",
    "        0.5 * (1 - y_true) * K.square(K.maximum(0., y_pred - 0.1))\n",
    "\n",
    "    return K.mean(K.sum(L, 1))\n",
    "\n",
    "def train(model, data, lr, lr_decay, lam_recon, batch_size, shift_fraction, epochs):\n",
    "    \"\"\"\n",
    "    Training a CapsuleNet\n",
    "    :param model: the CapsuleNet model\n",
    "    :param data: a tuple containing training and testing data, like `((x_train, y_train), (x_test, y_test))`\n",
    "    :param args: arguments\n",
    "    :return: The trained model\n",
    "    \"\"\"\n",
    "    # unpacking the data\n",
    "    (x_train, y_train), (x_test, y_test) = data\n",
    "\n",
    "    # callbacks\n",
    "    log = callbacks.CSVLogger('saved_models/CapsNet_log.csv')\n",
    "    tb = callbacks.TensorBoard(log_dir='saved_models/tensorboard-logs',\n",
    "                               batch_size=batch_size, histogram_freq=0)\n",
    "    checkpoint = callbacks.ModelCheckpoint(filepath='saved_models/CapsNet.best.from_scratch.hdf5', \n",
    "                               verbose=1, save_best_only=True)\n",
    "    cb_lr_decay = callbacks.LearningRateScheduler(schedule=lambda epoch: lr * (lr_decay ** epoch))\n",
    "\n",
    "    # compile the model\n",
    "    model.compile(optimizer='sgd', loss='binary_crossentropy', \n",
    "              metrics=[precision_threshold(threshold = 0.5), \n",
    "                      recall_threshold(threshold = 0.5), \n",
    "                      fbeta_score_threshold(beta=0.5, threshold = 0.5),\n",
    "                      binary_accuracy])\n",
    "\n",
    "    # Training without data augmentation:\n",
    "#     model.fit([x_train, y_train], [y_train, x_train], batch_size=batch_size, epochs=epochs,\n",
    "#               validation_data=[[x_test, y_test], [y_test, x_test]], callbacks=[log, tb, checkpoint, cb_lr_decay])\n",
    "\n",
    "    # Begin: Training with data augmentation ---------------------------------------------------------------------#\n",
    "    def train_generator(x, y, batch_size, shift_fraction=0.):\n",
    "        train_datagen = ImageDataGenerator(width_shift_range=shift_fraction,\n",
    "                                           height_shift_range=shift_fraction)  # shift up to 2 pixel for MNIST\n",
    "        generator = train_datagen.flow(x, y, batch_size=batch_size)\n",
    "        while 1:\n",
    "            x_batch, y_batch = generator.next()\n",
    "            yield ([x_batch, y_batch], [y_batch, x_batch])\n",
    "\n",
    "    # Training with data augmentation. If shift_fraction=0., also no augmentation.\n",
    "    model.fit_generator(generator=train_generator(x_train, y_train, batch_size, shift_fraction),\n",
    "                        steps_per_epoch=int(y_train.shape[0] / batch_size),\n",
    "                        epochs=epochs,\n",
    "                        validation_data=[[x_test, y_test], [y_test, x_test]],\n",
    "                        callbacks=[log, tb, checkpoint, cb_lr_decay])\n",
    "    # End: Training with data augmentation -----------------------------------------------------------------------#\n",
    "\n",
    "    from utils import plot_log\n",
    "    plot_log('saved_models/CapsNet_log.csv', show=True)\n",
    "\n",
    "    return model"
   ]
  },
  {
   "cell_type": "code",
   "execution_count": 7,
   "metadata": {},
   "outputs": [
    {
     "name": "stdout",
     "output_type": "stream",
     "text": [
      "Epoch 1/10\n",
      "2799/2800 [============================>.] - ETA: 0s - loss: 1.3782 - capsnet_loss: 0.6851 - decoder_loss: 0.6931 - capsnet_precision: 0.5231 - capsnet_recall: 0.3073 - capsnet_fbeta_score: 0.4199 - capsnet_binary_accuracy: 0.5813 - decoder_precision: 0.9670 - decoder_recall: 0.9837 - decoder_fbeta_score: 0.9702 - decoder_binary_accuracy: 0.0177Epoch 00000: val_loss improved from inf to 1.35807, saving model to saved_models/CapsNet.best.from_scratch.hdf5\n",
      "2800/2800 [==============================] - 1815s - loss: 1.3782 - capsnet_loss: 0.6851 - decoder_loss: 0.6931 - capsnet_precision: 0.5231 - capsnet_recall: 0.3073 - capsnet_fbeta_score: 0.4199 - capsnet_binary_accuracy: 0.5813 - decoder_precision: 0.9670 - decoder_recall: 0.9837 - decoder_fbeta_score: 0.9702 - decoder_binary_accuracy: 0.0177 - val_loss: 1.3581 - val_capsnet_loss: 0.6650 - val_decoder_loss: 0.6931 - val_capsnet_precision: 0.6418 - val_capsnet_recall: 0.3064 - val_capsnet_fbeta_score: 0.5102 - val_capsnet_binary_accuracy: 0.6036 - val_decoder_precision: 0.9583 - val_decoder_recall: 0.9842 - val_decoder_fbeta_score: 0.9632 - val_decoder_binary_accuracy: 0.0170\n",
      "Epoch 2/10\n",
      "2799/2800 [============================>.] - ETA: 0s - loss: 1.3599 - capsnet_loss: 0.6668 - decoder_loss: 0.6931 - capsnet_precision: 0.5961 - capsnet_recall: 0.4460 - capsnet_fbeta_score: 0.5416 - capsnet_binary_accuracy: 0.6023 - decoder_precision: 0.9665 - decoder_recall: 0.9839 - decoder_fbeta_score: 0.9699 - decoder_binary_accuracy: 0.0172Epoch 00001: val_loss improved from 1.35807 to 1.35208, saving model to saved_models/CapsNet.best.from_scratch.hdf5\n",
      "2800/2800 [==============================] - 1809s - loss: 1.3599 - capsnet_loss: 0.6668 - decoder_loss: 0.6931 - capsnet_precision: 0.5960 - capsnet_recall: 0.4459 - capsnet_fbeta_score: 0.5415 - capsnet_binary_accuracy: 0.6023 - decoder_precision: 0.9665 - decoder_recall: 0.9839 - decoder_fbeta_score: 0.9699 - decoder_binary_accuracy: 0.0172 - val_loss: 1.3521 - val_capsnet_loss: 0.6590 - val_decoder_loss: 0.6931 - val_capsnet_precision: 0.6101 - val_capsnet_recall: 0.4362 - val_capsnet_fbeta_score: 0.5558 - val_capsnet_binary_accuracy: 0.6152 - val_decoder_precision: 0.9583 - val_decoder_recall: 0.9842 - val_decoder_fbeta_score: 0.9633 - val_decoder_binary_accuracy: 0.0171\n",
      "Epoch 3/10\n",
      "2799/2800 [============================>.] - ETA: 0s - loss: 1.3565 - capsnet_loss: 0.6634 - decoder_loss: 0.6931 - capsnet_precision: 0.5984 - capsnet_recall: 0.4619 - capsnet_fbeta_score: 0.5497 - capsnet_binary_accuracy: 0.6067 - decoder_precision: 0.9668 - decoder_recall: 0.9844 - decoder_fbeta_score: 0.9702 - decoder_binary_accuracy: 0.0174Epoch 00002: val_loss improved from 1.35208 to 1.34942, saving model to saved_models/CapsNet.best.from_scratch.hdf5\n",
      "2800/2800 [==============================] - 1809s - loss: 1.3565 - capsnet_loss: 0.6634 - decoder_loss: 0.6931 - capsnet_precision: 0.5984 - capsnet_recall: 0.4620 - capsnet_fbeta_score: 0.5497 - capsnet_binary_accuracy: 0.6068 - decoder_precision: 0.9668 - decoder_recall: 0.9844 - decoder_fbeta_score: 0.9702 - decoder_binary_accuracy: 0.0174 - val_loss: 1.3494 - val_capsnet_loss: 0.6564 - val_decoder_loss: 0.6931 - val_capsnet_precision: 0.6114 - val_capsnet_recall: 0.4447 - val_capsnet_fbeta_score: 0.5598 - val_capsnet_binary_accuracy: 0.6169 - val_decoder_precision: 0.9582 - val_decoder_recall: 0.9838 - val_decoder_fbeta_score: 0.9632 - val_decoder_binary_accuracy: 0.0172\n",
      "Epoch 4/10\n",
      "2799/2800 [============================>.] - ETA: 0s - loss: 1.3550 - capsnet_loss: 0.6619 - decoder_loss: 0.6931 - capsnet_precision: 0.6002 - capsnet_recall: 0.4695 - capsnet_fbeta_score: 0.5556 - capsnet_binary_accuracy: 0.6092 - decoder_precision: 0.9662 - decoder_recall: 0.9840 - decoder_fbeta_score: 0.9697 - decoder_binary_accuracy: 0.0180Epoch 00003: val_loss improved from 1.34942 to 1.34788, saving model to saved_models/CapsNet.best.from_scratch.hdf5\n",
      "2800/2800 [==============================] - 1808s - loss: 1.3550 - capsnet_loss: 0.6619 - decoder_loss: 0.6931 - capsnet_precision: 0.6002 - capsnet_recall: 0.4695 - capsnet_fbeta_score: 0.5556 - capsnet_binary_accuracy: 0.6092 - decoder_precision: 0.9662 - decoder_recall: 0.9840 - decoder_fbeta_score: 0.9697 - decoder_binary_accuracy: 0.0180 - val_loss: 1.3479 - val_capsnet_loss: 0.6548 - val_decoder_loss: 0.6930 - val_capsnet_precision: 0.6140 - val_capsnet_recall: 0.4546 - val_capsnet_fbeta_score: 0.5650 - val_capsnet_binary_accuracy: 0.6199 - val_decoder_precision: 0.9583 - val_decoder_recall: 0.9858 - val_decoder_fbeta_score: 0.9636 - val_decoder_binary_accuracy: 0.0183\n",
      "Epoch 5/10\n",
      "2799/2800 [============================>.] - ETA: 0s - loss: 1.3536 - capsnet_loss: 0.6606 - decoder_loss: 0.6930 - capsnet_precision: 0.6009 - capsnet_recall: 0.4724 - capsnet_fbeta_score: 0.5570 - capsnet_binary_accuracy: 0.6102 - decoder_precision: 0.9662 - decoder_recall: 0.9848 - decoder_fbeta_score: 0.9698 - decoder_binary_accuracy: 0.0190Epoch 00004: val_loss improved from 1.34788 to 1.34664, saving model to saved_models/CapsNet.best.from_scratch.hdf5\n",
      "2800/2800 [==============================] - 1808s - loss: 1.3536 - capsnet_loss: 0.6606 - decoder_loss: 0.6930 - capsnet_precision: 0.6009 - capsnet_recall: 0.4725 - capsnet_fbeta_score: 0.5570 - capsnet_binary_accuracy: 0.6102 - decoder_precision: 0.9662 - decoder_recall: 0.9848 - decoder_fbeta_score: 0.9698 - decoder_binary_accuracy: 0.0190 - val_loss: 1.3466 - val_capsnet_loss: 0.6536 - val_decoder_loss: 0.6930 - val_capsnet_precision: 0.6155 - val_capsnet_recall: 0.4667 - val_capsnet_fbeta_score: 0.5706 - val_capsnet_binary_accuracy: 0.6229 - val_decoder_precision: 0.9582 - val_decoder_recall: 0.9842 - val_decoder_fbeta_score: 0.9632 - val_decoder_binary_accuracy: 0.0180\n",
      "Epoch 6/10\n",
      "2799/2800 [============================>.] - ETA: 0s - loss: 1.3516 - capsnet_loss: 0.6586 - decoder_loss: 0.6930 - capsnet_precision: 0.6046 - capsnet_recall: 0.4797 - capsnet_fbeta_score: 0.5630 - capsnet_binary_accuracy: 0.6139 - decoder_precision: 0.9668 - decoder_recall: 0.9855 - decoder_fbeta_score: 0.9704 - decoder_binary_accuracy: 0.0195Epoch 00005: val_loss improved from 1.34664 to 1.34549, saving model to saved_models/CapsNet.best.from_scratch.hdf5\n",
      "2800/2800 [==============================] - 1808s - loss: 1.3517 - capsnet_loss: 0.6586 - decoder_loss: 0.6930 - capsnet_precision: 0.6046 - capsnet_recall: 0.4797 - capsnet_fbeta_score: 0.5630 - capsnet_binary_accuracy: 0.6138 - decoder_precision: 0.9668 - decoder_recall: 0.9855 - decoder_fbeta_score: 0.9704 - decoder_binary_accuracy: 0.0195 - val_loss: 1.3455 - val_capsnet_loss: 0.6525 - val_decoder_loss: 0.6930 - val_capsnet_precision: 0.6262 - val_capsnet_recall: 0.4492 - val_capsnet_fbeta_score: 0.5714 - val_capsnet_binary_accuracy: 0.6246 - val_decoder_precision: 0.9583 - val_decoder_recall: 0.9856 - val_decoder_fbeta_score: 0.9636 - val_decoder_binary_accuracy: 0.0190\n",
      "Epoch 7/10\n",
      "2799/2800 [============================>.] - ETA: 0s - loss: 1.3501 - capsnet_loss: 0.6571 - decoder_loss: 0.6930 - capsnet_precision: 0.6072 - capsnet_recall: 0.4885 - capsnet_fbeta_score: 0.5678 - capsnet_binary_accuracy: 0.6171 - decoder_precision: 0.9666 - decoder_recall: 0.9849 - decoder_fbeta_score: 0.9701 - decoder_binary_accuracy: 0.0196Epoch 00006: val_loss did not improve\n",
      "2800/2800 [==============================] - 1808s - loss: 1.3501 - capsnet_loss: 0.6571 - decoder_loss: 0.6930 - capsnet_precision: 0.6072 - capsnet_recall: 0.4886 - capsnet_fbeta_score: 0.5678 - capsnet_binary_accuracy: 0.6171 - decoder_precision: 0.9666 - decoder_recall: 0.9849 - decoder_fbeta_score: 0.9701 - decoder_binary_accuracy: 0.0196 - val_loss: 1.3483 - val_capsnet_loss: 0.6553 - val_decoder_loss: 0.6930 - val_capsnet_precision: 0.6519 - val_capsnet_recall: 0.3487 - val_capsnet_fbeta_score: 0.5408 - val_capsnet_binary_accuracy: 0.6163 - val_decoder_precision: 0.9584 - val_decoder_recall: 0.9857 - val_decoder_fbeta_score: 0.9636 - val_decoder_binary_accuracy: 0.0196\n",
      "Epoch 8/10\n",
      "2799/2800 [============================>.] - ETA: 0s - loss: 1.3493 - capsnet_loss: 0.6563 - decoder_loss: 0.6930 - capsnet_precision: 0.6102 - capsnet_recall: 0.4868 - capsnet_fbeta_score: 0.5701 - capsnet_binary_accuracy: 0.6180 - decoder_precision: 0.9664 - decoder_recall: 0.9854 - decoder_fbeta_score: 0.9701 - decoder_binary_accuracy: 0.0202Epoch 00007: val_loss improved from 1.34549 to 1.34405, saving model to saved_models/CapsNet.best.from_scratch.hdf5\n",
      "2800/2800 [==============================] - 1809s - loss: 1.3493 - capsnet_loss: 0.6563 - decoder_loss: 0.6930 - capsnet_precision: 0.6102 - capsnet_recall: 0.4868 - capsnet_fbeta_score: 0.5700 - capsnet_binary_accuracy: 0.6180 - decoder_precision: 0.9664 - decoder_recall: 0.9854 - decoder_fbeta_score: 0.9701 - decoder_binary_accuracy: 0.0202 - val_loss: 1.3441 - val_capsnet_loss: 0.6511 - val_decoder_loss: 0.6930 - val_capsnet_precision: 0.6195 - val_capsnet_recall: 0.4814 - val_capsnet_fbeta_score: 0.5786 - val_capsnet_binary_accuracy: 0.6269 - val_decoder_precision: 0.9584 - val_decoder_recall: 0.9867 - val_decoder_fbeta_score: 0.9638 - val_decoder_binary_accuracy: 0.0200\n",
      "Epoch 9/10\n",
      "2799/2800 [============================>.] - ETA: 0s - loss: 1.3494 - capsnet_loss: 0.6564 - decoder_loss: 0.6930 - capsnet_precision: 0.6092 - capsnet_recall: 0.4902 - capsnet_fbeta_score: 0.5712 - capsnet_binary_accuracy: 0.6187 - decoder_precision: 0.9668 - decoder_recall: 0.9859 - decoder_fbeta_score: 0.9705 - decoder_binary_accuracy: 0.0205Epoch 00008: val_loss did not improve\n",
      "2800/2800 [==============================] - 1808s - loss: 1.3494 - capsnet_loss: 0.6564 - decoder_loss: 0.6930 - capsnet_precision: 0.6091 - capsnet_recall: 0.4902 - capsnet_fbeta_score: 0.5711 - capsnet_binary_accuracy: 0.6188 - decoder_precision: 0.9668 - decoder_recall: 0.9859 - decoder_fbeta_score: 0.9705 - decoder_binary_accuracy: 0.0205 - val_loss: 1.3518 - val_capsnet_loss: 0.6589 - val_decoder_loss: 0.6930 - val_capsnet_precision: 0.6594 - val_capsnet_recall: 0.3261 - val_capsnet_fbeta_score: 0.5314 - val_capsnet_binary_accuracy: 0.6143 - val_decoder_precision: 0.9584 - val_decoder_recall: 0.9870 - val_decoder_fbeta_score: 0.9639 - val_decoder_binary_accuracy: 0.0207\n",
      "Epoch 10/10\n",
      "2799/2800 [============================>.] - ETA: 0s - loss: 1.3483 - capsnet_loss: 0.6553 - decoder_loss: 0.6930 - capsnet_precision: 0.6130 - capsnet_recall: 0.4941 - capsnet_fbeta_score: 0.5746 - capsnet_binary_accuracy: 0.6215 - decoder_precision: 0.9667 - decoder_recall: 0.9860 - decoder_fbeta_score: 0.9704 - decoder_binary_accuracy: 0.0209Epoch 00009: val_loss did not improve\n",
      "2800/2800 [==============================] - 1809s - loss: 1.3484 - capsnet_loss: 0.6554 - decoder_loss: 0.6930 - capsnet_precision: 0.6128 - capsnet_recall: 0.4940 - capsnet_fbeta_score: 0.5745 - capsnet_binary_accuracy: 0.6215 - decoder_precision: 0.9667 - decoder_recall: 0.9860 - decoder_fbeta_score: 0.9704 - decoder_binary_accuracy: 0.0209 - val_loss: 1.3448 - val_capsnet_loss: 0.6519 - val_decoder_loss: 0.6930 - val_capsnet_precision: 0.6414 - val_capsnet_recall: 0.4014 - val_capsnet_fbeta_score: 0.5612 - val_capsnet_binary_accuracy: 0.6225 - val_decoder_precision: 0.9584 - val_decoder_recall: 0.9862 - val_decoder_fbeta_score: 0.9637 - val_decoder_binary_accuracy: 0.0208\n"
     ]
    },
    {
     "data": {
      "image/png": "[encoded data removed]",
      "text/plain": [
       "<matplotlib.figure.Figure at 0x7f96a4ba9d68>"
      ]
     },
     "metadata": {},
     "output_type": "display_data"
    },
    {
     "data": {
      "text/plain": [
       "<keras.engine.training.Model at 0x7f96a5b09668>"
      ]
     },
     "execution_count": 7,
     "metadata": {},
     "output_type": "execute_result"
    }
   ],
   "source": [
    "train(model=model, data=((train_tensors, train_labels), (valid_tensors, valid_labels)), \n",
    "      lr=0.001, lr_decay=0.9, lam_recon=0.392, batch_size=32, shift_fraction=0.1, epochs=10)"
   ]
  },
  {
   "cell_type": "markdown",
   "metadata": {},
   "source": [
    "# Testing"
   ]
  },
  {
   "cell_type": "code",
   "execution_count": 8,
   "metadata": {
    "collapsed": true
   },
   "outputs": [],
   "source": [
    "model.load_weights('saved_models/CapsNet.best.from_scratch.hdf5')\n",
    "prediction = eval_model.predict(test_tensors)"
   ]
  },
  {
   "cell_type": "code",
   "execution_count": 11,
   "metadata": {},
   "outputs": [
    {
     "name": "stdout",
     "output_type": "stream",
     "text": [
      "Precision: 0.639640 %\n",
      "Recall: 0.498293 %\n",
      "Fscore: 0.605299 %\n"
     ]
    }
   ],
   "source": [
    "threshold = 0.5\n",
    "beta = 0.5\n",
    "\n",
    "pre = K.eval(precision_threshold(threshold = threshold)(K.variable(value=test_labels),\n",
    "                                   K.variable(value=prediction[0])))\n",
    "rec = K.eval(recall_threshold(threshold = threshold)(K.variable(value=test_labels),\n",
    "                                   K.variable(value=prediction[0])))\n",
    "fsc = K.eval(fbeta_score_threshold(beta = beta, threshold = threshold)(K.variable(value=test_labels),\n",
    "                                   K.variable(value=prediction[0])))\n",
    "\n",
    "print (\"Precision: %f %%\\nRecall: %f %%\\nFscore: %f %%\"% (pre, rec, fsc))"
   ]
  },
  {
   "cell_type": "code",
   "execution_count": 12,
   "metadata": {},
   "outputs": [
    {
     "data": {
      "text/plain": [
       "0.63508493"
      ]
     },
     "execution_count": 12,
     "metadata": {},
     "output_type": "execute_result"
    }
   ],
   "source": [
    "K.eval(binary_accuracy(K.variable(value=test_labels),\n",
    "                                   K.variable(value=prediction[0])))"
   ]
  },
  {
   "cell_type": "code",
   "execution_count": null,
   "metadata": {
    "collapsed": true
   },
   "outputs": [],
   "source": []
  }
 ],
 "metadata": {
  "kernelspec": {
   "display_name": "Python 3",
   "language": "python",
   "name": "python3"
  },
  "language_info": {
   "codemirror_mode": {
    "name": "ipython",
    "version": 3
   },
   "file_extension": ".py",
   "mimetype": "text/x-python",
   "name": "python",
   "nbconvert_exporter": "python",
   "pygments_lexer": "ipython3",
   "version": "3.5.2"
  }
 },
 "nbformat": 4,
 "nbformat_minor": 2
}
